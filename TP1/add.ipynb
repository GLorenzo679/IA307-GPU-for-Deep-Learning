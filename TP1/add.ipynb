{
  "cells": [
    {
      "cell_type": "markdown",
      "metadata": {
        "id": "pumkepYMMsms"
      },
      "source": [
        "# Code\n"
      ]
    },
    {
      "cell_type": "code",
      "execution_count": 5,
      "metadata": {
        "colab": {
          "base_uri": "https://localhost:8080/"
        },
        "id": "BPJbeZDPyP8l",
        "outputId": "4d90d53a-2ba0-4c4c-e5d3-1c9ac8fdca34"
      },
      "outputs": [
        {
          "name": "stdout",
          "output_type": "stream",
          "text": [
            "Overwriting add.cu\n"
          ]
        }
      ],
      "source": [
        "%%writefile add.cu\n",
        "#include <stdio.h>\n",
        "#include <stdlib.h>\n",
        "\n",
        "__global__ void add (int a, int b, int *res) {\n",
        "    *res = a + b;\n",
        "}\n",
        "\n",
        "int main() {\n",
        "    int res=10000;\n",
        "    int *d_res = NULL;\n",
        "\n",
        "    cudaMalloc((void**)&d_res, sizeof(int));\n",
        "\n",
        "    dim3 grid(1);\n",
        "    dim3 block(1);\n",
        "\n",
        "    // Launch add() kernel on GPU\n",
        "    add<<<grid,block>>>(2, 2, d_res);\n",
        "\n",
        "    printf(\"Avant cudaMemcpy: 2 + 2 = %d\\n\", res);\n",
        "    cudaMemcpy(&res, d_res, sizeof(int), cudaMemcpyDeviceToHost);\n",
        "    printf(\"Après cudaMemcpy: 2 + 2 = %d\\n\", res);\n",
        "\n",
        "    cudaFree(d_res);\n",
        "    return EXIT_SUCCESS;\n",
        "}"
      ]
    },
    {
      "cell_type": "code",
      "execution_count": 6,
      "metadata": {
        "id": "AlpCErni7uCi",
        "vscode": {
          "languageId": "python"
        }
      },
      "outputs": [],
      "source": [
        "! nvcc add.cu -o add"
      ]
    },
    {
      "cell_type": "code",
      "execution_count": 7,
      "metadata": {
        "colab": {
          "base_uri": "https://localhost:8080/"
        },
        "id": "2QsfTiJol1fo",
        "outputId": "8084cced-19f7-40f7-f367-cf88d31ad202",
        "vscode": {
          "languageId": "python"
        }
      },
      "outputs": [
        {
          "name": "stdout",
          "output_type": "stream",
          "text": [
            "Avant cudaMemcpy: 2 + 2 = 10000\n",
            "Après cudaMemcpy: 2 + 2 = 4\n"
          ]
        }
      ],
      "source": [
        "! ./add"
      ]
    }
  ],
  "metadata": {
    "accelerator": "GPU",
    "colab": {
      "gpuType": "T4",
      "provenance": []
    },
    "kernelspec": {
      "display_name": "Python 3",
      "name": "python3"
    }
  },
  "nbformat": 4,
  "nbformat_minor": 0
}
