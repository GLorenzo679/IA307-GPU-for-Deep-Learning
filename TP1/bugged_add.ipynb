{
  "cells": [
    {
      "cell_type": "markdown",
      "metadata": {
        "id": "pumkepYMMsms"
      },
      "source": [
        "# 1. Raw code\n"
      ]
    },
    {
      "cell_type": "code",
      "execution_count": 1,
      "metadata": {
        "colab": {
          "base_uri": "https://localhost:8080/"
        },
        "id": "BPJbeZDPyP8l",
        "outputId": "e849f389-ed7c-49fe-f3c5-fb0634df878b"
      },
      "outputs": [
        {
          "name": "stdout",
          "output_type": "stream",
          "text": [
            "Writing raw_add.cu\n"
          ]
        }
      ],
      "source": [
        "%%writefile raw_add.cu\n",
        "#include <stdio.h>\n",
        "#include <stdlib.h>\n",
        "\n",
        "__global__ void add(int a, int b, int *res) {\n",
        "    *res = a + b;\n",
        "}\n",
        "\n",
        "\n",
        "int main() {\n",
        "    int res=0;\n",
        "    int *d_res = NULL;\n",
        "\n",
        "    // Launch add() kernel on GPU\n",
        "    add<<<1,1>>>(2, 2, d_res);\n",
        "\n",
        "    cudaMemcpy(&res, d_res, sizeof(int), cudaMemcpyDeviceToHost);\n",
        "    printf(\"2 + 2 = %d\\n\", res);\n",
        "\n",
        "    return EXIT_SUCCESS;\n",
        "}"
      ]
    },
    {
      "cell_type": "code",
      "execution_count": 2,
      "metadata": {
        "id": "_9O0k9r8jrpy"
      },
      "outputs": [],
      "source": [
        "!nvcc raw_add.cu -o raw_add"
      ]
    },
    {
      "cell_type": "code",
      "execution_count": 3,
      "metadata": {
        "colab": {
          "base_uri": "https://localhost:8080/"
        },
        "id": "s23SzGZE8nVI",
        "outputId": "5d872fe0-b566-4b8c-f34d-926958479803"
      },
      "outputs": [
        {
          "name": "stdout",
          "output_type": "stream",
          "text": [
            "2 + 2 = 0\n"
          ]
        }
      ],
      "source": [
        "!./raw_add"
      ]
    },
    {
      "cell_type": "markdown",
      "metadata": {
        "id": "-jnJMpwBq9nO"
      },
      "source": [
        "# 2. Debugging\n"
      ]
    },
    {
      "cell_type": "code",
      "execution_count": 4,
      "metadata": {
        "colab": {
          "base_uri": "https://localhost:8080/"
        },
        "id": "tede2oIE68ao",
        "outputId": "0de9be35-ab6c-433c-efa3-d637dab11c11"
      },
      "outputs": [
        {
          "name": "stdout",
          "output_type": "stream",
          "text": [
            "Writing add.cu\n"
          ]
        }
      ],
      "source": [
        "%%writefile add.cu\n",
        "#include <stdio.h>\n",
        "#include <stdlib.h>\n",
        "\n",
        "__global__ void add(int a, int b, int *res) {\n",
        "    *res = a + b;\n",
        "}\n",
        "\n",
        "int main() {\n",
        "    int res=0;\n",
        "    int *d_res = NULL;\n",
        "\n",
        "    // Launch add() kernel on GPU\n",
        "    add<<<1,1>>>(2, 2, d_res);\n",
        "\n",
        "    cudaMemcpy(&res, d_res, sizeof(int), cudaMemcpyDeviceToHost);\n",
        "    printf(\"2 + 2 = %d\\n\", res);\n",
        "\n",
        "    return EXIT_SUCCESS;\n",
        "}"
      ]
    },
    {
      "cell_type": "code",
      "execution_count": 5,
      "metadata": {
        "id": "Ic6RU__w9Z_Y"
      },
      "outputs": [],
      "source": [
        "! nvcc -g -G add.cu -o add"
      ]
    },
    {
      "cell_type": "code",
      "execution_count": 6,
      "metadata": {
        "colab": {
          "base_uri": "https://localhost:8080/"
        },
        "id": "enNGCLae-EPy",
        "outputId": "6d102264-8742-4673-87ea-22f3450e0949"
      },
      "outputs": [
        {
          "name": "stdout",
          "output_type": "stream",
          "text": [
            "Writing debug_instructions.txt\n"
          ]
        }
      ],
      "source": [
        "%%writefile debug_instructions.txt\n",
        "\n",
        "set cuda api_failures stop\n",
        "catch throw\n",
        "r\n",
        "bt\n",
        "info locals\n",
        "thread 1\n",
        "bt"
      ]
    },
    {
      "cell_type": "code",
      "execution_count": 7,
      "metadata": {
        "colab": {
          "base_uri": "https://localhost:8080/"
        },
        "id": "M4i1d0EG--k2",
        "outputId": "68b08182-6ca9-47fc-8b59-293f322a629f"
      },
      "outputs": [
        {
          "name": "stdout",
          "output_type": "stream",
          "text": [
            "Catchpoint 1 (throw)\n",
            "[Thread debugging using libthread_db enabled]\n",
            "Using host libthread_db library \"/lib/x86_64-linux-gnu/libthread_db.so.1\".\n",
            "[New Thread 0x7ffff53ff000 (LWP 860)]\n",
            "[Detaching after fork from child process 861]\n",
            "[New Thread 0x7ffff495d000 (LWP 866)]\n",
            "[New Thread 0x7fffe9fff000 (LWP 867)]\n",
            "\n",
            "CUDA Exception: Warp Illegal Address\n",
            "The exception was triggered at PC 0x7fffcf034360 (add.cu:5)\n",
            "\n",
            "Thread 1 \"add\" received signal CUDA_EXCEPTION_14, Warp Illegal Address.\n",
            "[Switching focus to CUDA kernel 0, grid 1, block (0,0,0), thread (0,0,0), device 0, sm 0, warp 0, lane 0]\n",
            "0x00007fffcf034380 in add<<<(1,1,1),(1,1,1)>>> (a=2, b=2, res=0x0) at add.cu:6\n",
            "6\t}\n",
            "#0  0x00007fffcf034380 in add<<<(1,1,1),(1,1,1)>>> (a=2, b=2, res=0x0) at add.cu:6\n",
            "No locals.\n",
            "[Switching to thread 1 (Thread 0x7ffff7d79000 (LWP 856))]\n",
            "#0  0x00007ffff61a9590 in cudbgReportDriverApiError () from /usr/lib64-nvidia/libcuda.so.1\n",
            "#0  0x00007ffff61a9590 in cudbgReportDriverApiError () from /usr/lib64-nvidia/libcuda.so.1\n",
            "#1  0x00007ffff6468a9b in ?? () from /usr/lib64-nvidia/libcuda.so.1\n",
            "#2  0x00007ffff55516e7 in ?? () from /usr/lib64-nvidia/libcudadebugger.so.1\n",
            "#3  0x00007ffff55300ce in ?? () from /usr/lib64-nvidia/libcudadebugger.so.1\n",
            "#4  0x00007ffff5540337 in ?? () from /usr/lib64-nvidia/libcudadebugger.so.1\n",
            "#5  0x00007ffff55267c3 in ?? () from /usr/lib64-nvidia/libcudadebugger.so.1\n",
            "#6  0x00007ffff569fb26 in ?? () from /usr/lib64-nvidia/libcudadebugger.so.1\n",
            "#7  0x00007ffff6480aa6 in ?? () from /usr/lib64-nvidia/libcuda.so.1\n",
            "#8  0x00005555555bf63a in cudaMemcpy ()\n",
            "#9  0x000055555555ec89 in main () at /content/add.cu:15\n"
          ]
        }
      ],
      "source": [
        "! cuda-gdb -batch -x debug_instructions.txt ./add"
      ]
    },
    {
      "cell_type": "markdown",
      "metadata": {
        "id": "Pc5oZhKdV4ik"
      },
      "source": [
        "# 3. Code with error management\n"
      ]
    },
    {
      "cell_type": "code",
      "execution_count": 8,
      "metadata": {
        "colab": {
          "base_uri": "https://localhost:8080/"
        },
        "id": "1J3RTPQ1WI6l",
        "outputId": "ad42b088-b5a3-484e-eb38-16bf8365fc2c"
      },
      "outputs": [
        {
          "name": "stdout",
          "output_type": "stream",
          "text": [
            "Overwriting add.cu\n"
          ]
        }
      ],
      "source": [
        "%%writefile add.cu\n",
        "#include <stdio.h>\n",
        "#include <stdlib.h>\n",
        "\n",
        "__global__ void add(int a, int b, int *res) {\n",
        "    *res = a + b;\n",
        "}\n",
        "\n",
        "\n",
        "int main() {\n",
        "    int res=0;\n",
        "    int *d_res = NULL;\n",
        "    cudaError_t err;\n",
        "\n",
        "    // Launch add() kernel on GPU\n",
        "    add<<<1,1>>>(2, 2, d_res);\n",
        "\n",
        "    err = cudaPeekAtLastError(); // check for invalid launch argument\n",
        "    if (err != cudaSuccess){\n",
        "        fprintf(stderr,\"GPUassert: add launch failed with the error : %s \\n\", cudaGetErrorString(err));\n",
        "        exit(err);\n",
        "    }\n",
        "\n",
        "    err = cudaDeviceSynchronize() ; // check if errors occurred during the kernel execution\n",
        "    if (err != cudaSuccess){\n",
        "        fprintf(stderr,\"GPUassert: add execution failed with the error : %s \\n\", cudaGetErrorString(err));\n",
        "        exit(err);\n",
        "    }\n",
        "\n",
        "    err = cudaMemcpy(&res, d_res, sizeof(int), cudaMemcpyDeviceToHost);\n",
        "    if (err != cudaSuccess){\n",
        "        fprintf(stderr,\"GPUassert: cudaMemcpy failed with the error : %s \\n\", cudaGetErrorString(err));\n",
        "        exit(err);\n",
        "    }\n",
        "\n",
        "    printf(\"2 + 2 = %d\\n\", res);\n",
        "\n",
        "    return EXIT_SUCCESS;\n",
        "}"
      ]
    },
    {
      "cell_type": "code",
      "execution_count": 9,
      "metadata": {
        "id": "1s3iDAig9Q0o"
      },
      "outputs": [],
      "source": [
        "! nvcc add.cu -o add"
      ]
    },
    {
      "cell_type": "code",
      "execution_count": 10,
      "metadata": {
        "colab": {
          "base_uri": "https://localhost:8080/"
        },
        "id": "zawOhWgM9jsI",
        "outputId": "4496c138-3943-41da-e6dc-7fb5eac6bd23"
      },
      "outputs": [
        {
          "name": "stdout",
          "output_type": "stream",
          "text": [
            "GPUassert: add execution failed with the error : an illegal memory access was encountered \n"
          ]
        }
      ],
      "source": [
        "!./add"
      ]
    },
    {
      "cell_type": "markdown",
      "metadata": {
        "id": "FMP8lcgGOzPX"
      },
      "source": [
        "# 4. CUDA error management Utilities in a separate cell\n"
      ]
    },
    {
      "cell_type": "code",
      "execution_count": 11,
      "metadata": {
        "colab": {
          "base_uri": "https://localhost:8080/"
        },
        "id": "rQg_K9pQPZXu",
        "outputId": "e760118d-f20a-4ee5-fa21-35e54a7eb1ba"
      },
      "outputs": [
        {
          "name": "stdout",
          "output_type": "stream",
          "text": [
            "Writing cuda_stuff.cuh\n"
          ]
        }
      ],
      "source": [
        "%%writefile cuda_stuff.cuh\n",
        "#include <stdio.h>\n",
        "#include <stdlib.h>\n",
        "#include <cuda.h>\n",
        "#include <cuda_runtime.h>\n",
        "\n",
        "#ifndef cuda_stuff_H\n",
        "#define cuda_stuff_H\n",
        "\n",
        "//MACRO TO DEBUG CUDA FUNCTIONS\n",
        "/** Error checking,\n",
        " *  taken from https://stackoverflow.com/questions/14038589/what-is-the-canonical-way-to-check-for-errors-using-the-cuda-runtime-api\n",
        " */\n",
        "#define gpuErrchk(ans) { gpuAssert((ans), __FILE__, __LINE__); }\n",
        "inline void gpuAssert(cudaError_t code, const char *file, int line, bool abort=true) {\n",
        "    if (code != cudaSuccess) {\n",
        "        fprintf(stderr,\"GPUassert: %s %s %d\\n\", cudaGetErrorString(code), file, line);\n",
        "        if (abort) exit(code);\n",
        "    }\n",
        "}\n",
        "\n",
        "#endif\n"
      ]
    },
    {
      "cell_type": "code",
      "execution_count": 12,
      "metadata": {
        "colab": {
          "base_uri": "https://localhost:8080/"
        },
        "id": "BKpKvYVTPHhz",
        "outputId": "8e7159b2-a78f-414d-e349-9ef58371c529"
      },
      "outputs": [
        {
          "name": "stdout",
          "output_type": "stream",
          "text": [
            "Writing addition.cu\n"
          ]
        }
      ],
      "source": [
        "%%writefile addition.cu\n",
        "#include <stdio.h>\n",
        "#include <stdlib.h>\n",
        "\n",
        "#include \"cuda_stuff.cuh\"\n",
        "\n",
        "__global__ void add(int a, int b, int *res) {\n",
        "    *res = a + b;\n",
        "}\n",
        "\n",
        "int main() {\n",
        "    int res=0;\n",
        "    int *d_res = NULL;\n",
        "\n",
        "    // Launch add() kernel on GPU\n",
        "    add<<<1,1>>>(2, 2, d_res);\n",
        "    gpuErrchk( cudaPeekAtLastError() );\n",
        "    gpuErrchk( cudaDeviceSynchronize() );\n",
        "\n",
        "    gpuErrchk(cudaMemcpy(&res, d_res, sizeof(int), cudaMemcpyDeviceToHost));\n",
        "    printf(\"2 + 2 = %d\\n\", res);\n",
        "\n",
        "    return EXIT_SUCCESS;\n",
        "}"
      ]
    },
    {
      "cell_type": "code",
      "execution_count": 13,
      "metadata": {
        "id": "qxP2OLarwSmo"
      },
      "outputs": [],
      "source": [
        "!nvcc addition.cu -o addition"
      ]
    },
    {
      "cell_type": "code",
      "execution_count": 14,
      "metadata": {
        "colab": {
          "base_uri": "https://localhost:8080/"
        },
        "id": "wcTDugXLViwU",
        "outputId": "33b16537-b03e-4bfc-ccd7-3eb8014c954a"
      },
      "outputs": [
        {
          "name": "stdout",
          "output_type": "stream",
          "text": [
            "GPUassert: an illegal memory access was encountered addition.cu 18\n"
          ]
        }
      ],
      "source": [
        "! ./addition"
      ]
    },
    {
      "cell_type": "markdown",
      "metadata": {
        "id": "W3Abr-ePPTGy"
      },
      "source": [
        "# 5. Fix the error\n"
      ]
    },
    {
      "cell_type": "code",
      "execution_count": 15,
      "metadata": {
        "colab": {
          "base_uri": "https://localhost:8080/"
        },
        "id": "wI5WlfVXPgAG",
        "outputId": "ad68aeab-39b8-4b12-b05c-464d1d2bc175"
      },
      "outputs": [
        {
          "name": "stdout",
          "output_type": "stream",
          "text": [
            "Writing fixed_addition.cu\n"
          ]
        }
      ],
      "source": [
        "%%writefile fixed_addition.cu\n",
        "#include <stdio.h>\n",
        "#include <stdlib.h>\n",
        "\n",
        "#include \"cuda_stuff.cuh\"\n",
        "\n",
        "__global__ void add(int a, int b, int *res) {\n",
        "    *res = a + b;\n",
        "}\n",
        "\n",
        "int main() {\n",
        "    int res=0;\n",
        "    int *d_res = NULL;\n",
        "\n",
        "    cudaMalloc((void**)&d_res, sizeof(int));\n",
        "\n",
        "    // Launch add() kernel on GPU\n",
        "    add<<<1,1>>>(2, 2, d_res);\n",
        "    gpuErrchk( cudaPeekAtLastError() );\n",
        "    gpuErrchk( cudaDeviceSynchronize() );\n",
        "\n",
        "    gpuErrchk(cudaMemcpy(&res, d_res, sizeof(int), cudaMemcpyDeviceToHost));\n",
        "    printf(\"2 + 2 = %d\\n\", res);\n",
        "\n",
        "    return EXIT_SUCCESS;\n",
        "}"
      ]
    },
    {
      "cell_type": "code",
      "execution_count": 16,
      "metadata": {
        "id": "p8qeX_XUPmoG"
      },
      "outputs": [],
      "source": [
        "!nvcc fixed_addition.cu -o fixed_addition"
      ]
    },
    {
      "cell_type": "code",
      "execution_count": 17,
      "metadata": {
        "colab": {
          "base_uri": "https://localhost:8080/"
        },
        "id": "iA0mzAvdPpmf",
        "outputId": "32639de7-de49-4151-e587-955ddd78d7bc"
      },
      "outputs": [
        {
          "name": "stdout",
          "output_type": "stream",
          "text": [
            "2 + 2 = 4\n"
          ]
        }
      ],
      "source": [
        "! ./fixed_addition"
      ]
    }
  ],
  "metadata": {
    "accelerator": "GPU",
    "colab": {
      "provenance": []
    },
    "kernelspec": {
      "display_name": "Python 3",
      "name": "python3"
    }
  },
  "nbformat": 4,
  "nbformat_minor": 0
}
