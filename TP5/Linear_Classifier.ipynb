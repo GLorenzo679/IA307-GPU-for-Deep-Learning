{
  "cells": [
    {
      "cell_type": "markdown",
      "metadata": {
        "id": "GBVKhTJ2dSYx"
      },
      "source": [
        "# IA307 - GPU Programming for Deep Learning\n",
        "\n",
        "## Author: Gabriele LORENZO\n"
      ]
    },
    {
      "cell_type": "markdown",
      "metadata": {
        "id": "iwd38XvZK2sy"
      },
      "source": [
        "# Installation\n"
      ]
    },
    {
      "cell_type": "code",
      "execution_count": 30,
      "metadata": {
        "colab": {
          "base_uri": "https://localhost:8080/"
        },
        "id": "Q6ewR7_sHJ00",
        "outputId": "0586e255-f758-419b-f5a0-a03661d82887"
      },
      "outputs": [
        {
          "output_type": "stream",
          "name": "stdout",
          "text": [
            "nvcc: NVIDIA (R) Cuda compiler driver\n",
            "Copyright (c) 2005-2024 NVIDIA Corporation\n",
            "Built on Thu_Jun__6_02:18:23_PDT_2024\n",
            "Cuda compilation tools, release 12.5, V12.5.82\n",
            "Build cuda_12.5.r12.5/compiler.34385749_0\n"
          ]
        }
      ],
      "source": [
        "!/usr/local/cuda/bin/nvcc --version"
      ]
    },
    {
      "cell_type": "markdown",
      "metadata": {
        "id": "neVqpQNceYFn"
      },
      "source": [
        "Download repository with helper_cuda.h:\n"
      ]
    },
    {
      "cell_type": "code",
      "execution_count": 31,
      "metadata": {
        "colab": {
          "base_uri": "https://localhost:8080/"
        },
        "id": "Ase9AQyweUSJ",
        "outputId": "b6f5bcf1-6460-440f-a58d-d4cdf45f92bf"
      },
      "outputs": [
        {
          "output_type": "stream",
          "name": "stdout",
          "text": [
            "fatal: destination path 'cuda-samples' already exists and is not an empty directory.\n"
          ]
        }
      ],
      "source": [
        "!git clone https://github.com/NVIDIA/cuda-samples.git"
      ]
    },
    {
      "cell_type": "markdown",
      "metadata": {
        "id": "dUIyq5vPjxKc"
      },
      "source": [
        "Based on the lecture at https://sites.google.com/site/frehseg/teaching/ia307\n"
      ]
    },
    {
      "cell_type": "markdown",
      "metadata": {
        "id": "cweMlOB0L4mG"
      },
      "source": [
        "# Provided Code\n"
      ]
    },
    {
      "cell_type": "markdown",
      "metadata": {
        "id": "Po-TEvrWMJ_a"
      },
      "source": [
        "## CUDA Utilities\n"
      ]
    },
    {
      "cell_type": "code",
      "execution_count": 32,
      "metadata": {
        "colab": {
          "base_uri": "https://localhost:8080/"
        },
        "id": "c-lgwhE1N5_7",
        "outputId": "bc71c2ab-1cce-455a-9994-c2f9b6924435"
      },
      "outputs": [
        {
          "output_type": "stream",
          "name": "stdout",
          "text": [
            "Overwriting cuda_stuff.cuh\n"
          ]
        }
      ],
      "source": [
        "%%writefile cuda_stuff.cuh\n",
        "#include <stdio.h>\n",
        "#include <stdlib.h>\n",
        "#include <cuda.h>\n",
        "#include <cuda_runtime.h>\n",
        "#include <helper_cuda.h>\n",
        "\n",
        "#ifndef cuda_stuff_H\n",
        "#define cuda_stuff_H\n",
        "\n",
        "/* transform matrix index to vector offset\n",
        "   Since CUDA uses column major,\n",
        "   nb_rows = number of rows */\n",
        "#define IDX2C(i,j,nb_rows) (((j)*(nb_rows))+(i))\n",
        "\n",
        "//MACRO TO DEBUGG CUDA FUNCTIONS\n",
        "/** Error checking,\n",
        " *  taken from https://stackoverflow.com/questions/14038589/what-is-the-canonical-way-to-check-for-errors-using-the-cuda-runtime-api\n",
        " */\n",
        "#define gpuErrchk(ans) { gpuAssert((ans), __FILE__, __LINE__); }\n",
        "inline void gpuAssert(cudaError_t code, const char *file, int line, bool abort=true)\n",
        "{\n",
        "   if (code != cudaSuccess)\n",
        "   {\n",
        "      fprintf(stderr,\"GPUassert: %s %s %d\\n\", cudaGetErrorString(code), file, line);\n",
        "      if (abort) exit(code);\n",
        "   }\n",
        "}\n",
        "\n",
        "/** Error checking for use with CUDA Dynamic Parallelism */\n",
        "/*\n",
        "#define cdpErrchk(ans) { cdpAssert((ans), __FILE__, __LINE__); }\n",
        "__device__ void cdpAssert(cudaError_t code, const char *file, int line, bool abort=true)\n",
        "{\n",
        "   if (code != cudaSuccess)\n",
        "   {\n",
        "      printf(\"GPU kernel assert: %s %s %d\\n\", cudaGetErrorString(code), file, line);\n",
        "      if (abort) assert(0);\n",
        "   }\n",
        "}\n",
        "*/\n",
        "\n",
        "void device_synchronize();\n",
        "\n",
        "#endif"
      ]
    },
    {
      "cell_type": "code",
      "execution_count": 33,
      "metadata": {
        "colab": {
          "base_uri": "https://localhost:8080/"
        },
        "id": "iivrxLaYOYPh",
        "outputId": "3fd41c89-a33e-4b84-eb99-a81352bb47ba"
      },
      "outputs": [
        {
          "output_type": "stream",
          "name": "stdout",
          "text": [
            "Overwriting cuda_stuff.cu\n"
          ]
        }
      ],
      "source": [
        "%%writefile cuda_stuff.cu\n",
        "#include <stdio.h>\n",
        "#include <stdlib.h>\n",
        "#include <cuda.h>\n",
        "#include <cuda_runtime.h>\n",
        "#include <helper_cuda.h>\n",
        "#include \"cuda_stuff.cuh\"\n",
        "\n",
        "void device_synchronize() {\n",
        "    gpuErrchk(cudaDeviceSynchronize());\n",
        "}"
      ]
    },
    {
      "cell_type": "markdown",
      "metadata": {
        "id": "0fsEMpauK8lW"
      },
      "source": [
        "## fmatrix Matrix Tools\n"
      ]
    },
    {
      "cell_type": "code",
      "execution_count": 34,
      "metadata": {
        "colab": {
          "base_uri": "https://localhost:8080/"
        },
        "id": "A97U902HMog4",
        "outputId": "bc46db14-b9cd-4596-e668-098974a5cfd5"
      },
      "outputs": [
        {
          "output_type": "stream",
          "name": "stdout",
          "text": [
            "Overwriting fmatrix.cuh\n"
          ]
        }
      ],
      "source": [
        "%%writefile fmatrix.cuh\n",
        "#ifndef fmatrices_H\n",
        "#define fmatrices_H\n",
        "#include \"cuda_stuff.cuh\" // for IDX2C\n",
        "\n",
        "////////////////////////////////////////\n",
        "// basic data structure and access macro\n",
        "////////////////////////////////////////\n",
        "typedef struct {\n",
        "    float* data;\n",
        "    int cols;\n",
        "    int rows;\n",
        "} fmatrix;\n",
        "\n",
        "/** Access element (i,j) of matrix M\n",
        " *\n",
        " *  Usage example:\n",
        " *  For computing A = B^T + C), loop over i and j with:\n",
        " *    getfm(A,i,j) = getfm(B,j,i) + getfm(C,i,j);\n",
        " **/\n",
        "#define getfm(M,i,j) (M.data[IDX2C(i,j,M.rows)])\n",
        "\n",
        "////////////////////////////////////////\n",
        "// utility functions\n",
        "////////////////////////////////////////\n",
        "/** Returns the number of elements in the matrix.\n",
        " *\n",
        " *  Useful for computing, e.g., the size\n",
        " *  of a 1D-vector that contains the same numbers.\n",
        " */\n",
        " __host__\n",
        " __device__\n",
        "int fmatrix_elements(fmatrix mat);\n",
        "\n",
        "/** Returns the memory occupied by the matrix elements in bytes\n",
        " *  (not including the variables in the struct mat).\n",
        " *\n",
        " *  Useful for allocating memory for the data.\n",
        " */\n",
        " __host__\n",
        " __device__\n",
        "int fmatrix_size(fmatrix mat);\n",
        "\n",
        "/** Assert that the matrix is coherent: all fields nonzero. */\n",
        " __host__\n",
        " __device__\n",
        "void fmatrix_assert(fmatrix mat);\n",
        "\n",
        "////////////////////////////////////////\n",
        "// Create, copy, destroy\n",
        "////////////////////////////////////////\n",
        "/** Allocate memory on host */\n",
        "fmatrix fmatrix_create_on_host(int rows, int cols);\n",
        "\n",
        "/** Allocate memory on device */\n",
        "fmatrix fmatrix_create_on_device(int rows, int cols);\n",
        "\n",
        "/** Create a matrix representing columns [a,b) of M.\n",
        " *  Note that the new matrix uses a pointer to the\n",
        " *  data of M. The data is not copied to a new location.\n",
        " *  If M is destroyed, this matrix is useless.\n",
        " */\n",
        "fmatrix fmatrix_subcolumns(fmatrix M, int a, int b);\n",
        "\n",
        "/** Copy data from matrix on device to host\n",
        " *  (no memory allocation). */\n",
        "void fmatrix_data_to_host(fmatrix mat_host, fmatrix mat_device);\n",
        "\n",
        "/** Copy data from matrix on host to device\n",
        " *  (no memory allocation). */\n",
        "void fmatrix_data_to_device(fmatrix mat_host, fmatrix mat_device);\n",
        "\n",
        "/** Copy matrix from device to host, allocating new memory. */\n",
        "fmatrix fmatrix_copy_to_host(fmatrix mat_device);\n",
        "\n",
        "/** Copy matrix from host to device, allocating new memory. */\n",
        "fmatrix fmatrix_copy_to_device(fmatrix mat_host);\n",
        "\n",
        "/** Free data memory on host.\n",
        " *  This zeros out the data pointer of the fmatrix struct,\n",
        " *  so a pointer is required. */\n",
        "void fmatrix_free_on_host(fmatrix* mat);\n",
        "\n",
        "/** Free data memory on device.\n",
        " *  This zeros out the data pointer of the fmatrix struct,\n",
        " *  so a pointer is required. */\n",
        "void fmatrix_free_on_device(fmatrix* mat);\n",
        "\n",
        "////////////////////////////////////////\n",
        "// Input and Output\n",
        "////////////////////////////////////////\n",
        "\n",
        "/** Print the first nb rows of the matrix mat\n",
        " *  on the host.\n",
        " *  If nb<0, print all rows.\n",
        " */\n",
        " __host__\n",
        " __device__\n",
        "void fmatrix_print(fmatrix mat, int nb=-1);\n",
        "\n",
        "/** Print the first nb rows of the matrix mat\n",
        " *  on the device.\n",
        " *  If nb<0, print all rows.\n",
        " *\n",
        " *  This version copies the matrix to host first.\n",
        " */\n",
        "void fmatrix_device_print(fmatrix mat, int nb=-1);\n",
        "\n",
        "/** Print a matrix to a csv file.\n",
        " *\n",
        " *  This version copies the matrix to host first.\n",
        " */\n",
        "void fmatrix_device_to_csv(const char* filename, fmatrix mat);\n",
        "\n",
        "/** Read a matrix from a csv file.\n",
        " *\n",
        " *  This version creates the matrix on the host first.\n",
        " */\n",
        "fmatrix fmatrix_device_from_csv(const char* filename);\n",
        "\n",
        "////////////////////////////////////////\n",
        "// Useful\n",
        "////////////////////////////////////////\n",
        "\n",
        "/** Create a matrix with random values between -1 and 1\n",
        " *  on the device */\n",
        "fmatrix fmatrix_create_random_on_device(int rows, int cols);\n",
        "\n",
        "#endif"
      ]
    },
    {
      "cell_type": "code",
      "execution_count": 35,
      "metadata": {
        "colab": {
          "base_uri": "https://localhost:8080/"
        },
        "id": "wGwZ36ifWQ-d",
        "outputId": "5aa3aa0e-e9eb-424e-e08a-d74485037e72"
      },
      "outputs": [
        {
          "output_type": "stream",
          "name": "stdout",
          "text": [
            "Overwriting fmatrix.cu\n"
          ]
        }
      ],
      "source": [
        "%%writefile fmatrix.cu\n",
        "#include <assert.h>\n",
        "#include <stdio.h>\n",
        "#include <stdlib.h>\n",
        "#include <cuda.h>\n",
        "#include <cuda_runtime.h>\n",
        "#include <helper_cuda.h>\n",
        "#include <curand.h>\n",
        "#include <curand_kernel.h>\n",
        "#include \"cuda_stuff.cuh\"\n",
        "#include \"fmatrix.cuh\"\n",
        "\n",
        "// for reading CSV files, we use some C++\n",
        "#include <iostream>\n",
        "#include <iomanip>\n",
        "#include <fstream>\n",
        "#include <string>\n",
        "\n",
        "int fmatrix_elements(fmatrix mat) {\n",
        "    return mat.cols*mat.rows;\n",
        "}\n",
        "\n",
        "int fmatrix_size(fmatrix mat) {\n",
        "    //fmatrix_assert(mat);\n",
        "    return fmatrix_elements(mat) * sizeof(float);\n",
        "}\n",
        "\n",
        "void fmatrix_assert(fmatrix mat) {\n",
        "    assert(mat.data);\n",
        "    assert(mat.cols);\n",
        "    assert(mat.rows);\n",
        "}\n",
        "\n",
        "fmatrix fmatrix_create_on_host(int rows, int cols) {\n",
        "    assert(cols>0);\n",
        "    assert(rows>0);\n",
        "    fmatrix mat;\n",
        "    mat.cols = cols;\n",
        "    mat.rows = rows;\n",
        "    mat.data = (float*)malloc(fmatrix_size(mat));\n",
        "    assert(mat.data);\n",
        "    return mat;\n",
        "}\n",
        "\n",
        "fmatrix fmatrix_create_on_device(int rows, int cols) {\n",
        "    assert(cols>0);\n",
        "    assert(rows>0);\n",
        "    fmatrix mat;\n",
        "    mat.cols = cols;\n",
        "    mat.rows = rows;\n",
        "    gpuErrchk(\n",
        "        cudaMalloc((void **)&(mat.data), fmatrix_size(mat))\n",
        "    );\n",
        "    return mat;\n",
        "}\n",
        "\n",
        "void fmatrix_data_to_device(fmatrix mat_host, fmatrix mat_device) {\n",
        "    fmatrix_assert(mat_host);\n",
        "    fmatrix_assert(mat_device);\n",
        "    assert(mat_host.cols==mat_device.cols);\n",
        "    assert(mat_host.rows==mat_device.rows);\n",
        "    gpuErrchk(\n",
        "        cudaMemcpy( mat_device.data, mat_host.data,\n",
        "                   fmatrix_size(mat_host),\n",
        "                   cudaMemcpyHostToDevice\n",
        "                   )\n",
        "    );\n",
        "}\n",
        "\n",
        "void fmatrix_data_to_host(fmatrix mat_host, fmatrix mat_device) {\n",
        "    fmatrix_assert(mat_host);\n",
        "    fmatrix_assert(mat_device);\n",
        "    assert(mat_host.cols==mat_device.cols);\n",
        "    assert(mat_host.rows==mat_device.rows);\n",
        "    gpuErrchk(\n",
        "        cudaMemcpy( mat_host.data, mat_device.data,\n",
        "                   fmatrix_size(mat_device),\n",
        "                   cudaMemcpyDeviceToHost\n",
        "                   )\n",
        "    );\n",
        "}\n",
        "\n",
        "fmatrix fmatrix_copy_to_host(fmatrix mat_device) {\n",
        "    fmatrix_assert(mat_device);\n",
        "    fmatrix mat_host = fmatrix_create_on_host(mat_device.rows, mat_device.cols);\n",
        "    fmatrix_data_to_host(mat_host,mat_device);\n",
        "    return mat_host;\n",
        "}\n",
        "\n",
        "fmatrix fmatrix_copy_to_device(fmatrix mat_host) {\n",
        "    fmatrix_assert(mat_host);\n",
        "    fmatrix mat_device = fmatrix_create_on_device(mat_host.rows, mat_host.cols);\n",
        "    fmatrix_data_to_device(mat_host,mat_device);\n",
        "    return mat_device;\n",
        "}\n",
        "\n",
        "/** We could do it like this, but it would not set our pointer M.data to 0.\n",
        "... fmatrix_free_on_host(M)\n",
        "void fmatrix_free_on_host(fmatrix mat) {\n",
        "    fmatrix_assert(mat);\n",
        "  free(mat.data);\n",
        "  mat.data = 0;\n",
        "  mat.cols = 0;\n",
        "  mat.rows = 0;\n",
        "}\n",
        "*/\n",
        "\n",
        "void fmatrix_free_on_host(fmatrix* mat) {\n",
        "    fmatrix_assert(*mat);\n",
        "    free(mat->data);\n",
        "    mat->data = 0;\n",
        "    mat->cols = 0;\n",
        "    mat->rows = 0;\n",
        "}\n",
        "\n",
        "void fmatrix_free_on_device(fmatrix* mat) {\n",
        "    fmatrix_assert(*mat);\n",
        "    gpuErrchk(cudaFree(mat->data));\n",
        "    mat->data = 0;\n",
        "    mat->cols = 0;\n",
        "    mat->rows = 0;\n",
        "}\n",
        "\n",
        "fmatrix fmatrix_subcolumns(fmatrix M, int a, int b) {\n",
        "    fmatrix_assert(M);\n",
        "    fmatrix A = {\n",
        "        .data = &getfm(M,0,a),\n",
        "        .cols = b-a,\n",
        "        .rows = M.rows\n",
        "    };\n",
        "    fmatrix_assert(A);\n",
        "    return A;\n",
        "}\n",
        "\n",
        "__host__\n",
        "__device__\n",
        "void fmatrix_print(fmatrix mat, int nb){\n",
        "    if (nb<0 || nb > mat.rows) {\n",
        "        nb = mat.rows;\n",
        "    }\n",
        "    printf(\"[\\n\");\n",
        "    for (int i = 0 ; i < nb; i++){\n",
        "      for (int j = 0 ; j<mat.cols; j++){\n",
        "        printf(\"%f\", getfm(mat,i,j));\n",
        "        if (j+1<mat.cols) {\n",
        "          printf(\",\\t\");\n",
        "        }\n",
        "      }\n",
        "      if (i+1<nb) {\n",
        "        printf(\";\\n\");\n",
        "      }\n",
        "    }\n",
        "    if (nb < mat.rows) {\n",
        "      printf(\"\\n...\\n\");\n",
        "    }\n",
        "  printf(\"\\n]\\n\");\n",
        "}\n",
        "\n",
        "void fmatrix_device_print(fmatrix mat, int nb){\n",
        "   // allocate copy\n",
        "   fmatrix tmp = fmatrix_copy_to_host(mat);\n",
        "   fmatrix_print(tmp,nb);\n",
        "   fmatrix_free_on_host(&tmp);\n",
        "}\n",
        "\n",
        "void fmatrix_device_to_csv(const char* filename, fmatrix mat) {\n",
        "  // Open file\n",
        "  FILE* fp = fopen(filename, \"w\");\n",
        "  // allocate copy\n",
        "  fmatrix tmp = fmatrix_copy_to_host(mat);\n",
        "  for (int i = 0 ; i < tmp.rows; i++){\n",
        "    for (int j = 0 ; j<tmp.cols; j++){\n",
        "      // Note: %.15g gives 15 significant digits (full double precision)\n",
        "      fprintf(fp,\"%.15g\", getfm(tmp,i,j));\n",
        "      if (j+1<tmp.cols) {\n",
        "        fprintf(fp,\",\");\n",
        "      }\n",
        "    }\n",
        "    fprintf(fp,\"\\n\");\n",
        "  }\n",
        "  fmatrix_free_on_host(&tmp);\n",
        "  // Close file\n",
        "  fclose(fp);\n",
        "}\n",
        "\n",
        "__global__\n",
        "void fmatrix_create_random_on_device_kernel(fmatrix M) {\n",
        "    // choose a seed (here: the same each launch)\n",
        "    unsigned long seed = 0;\n",
        "    int sequence = 0;\n",
        "    // first, initialize the random numbers\n",
        "    curandState state;\n",
        "    curand_init(seed, sequence, 0, &state);\n",
        "    for (int i = 0; i < fmatrix_elements(M); ++i) {\n",
        "        // curand_uniform creates numbers between 0 and 1\n",
        "        M.data[i] = (curand_uniform(&state)-0.5)*2.0;\n",
        "    }\n",
        "}\n",
        "\n",
        "fmatrix fmatrix_create_random_on_device(int rows, int cols) {\n",
        "    // Create an uninitialized matrix on the device\n",
        "    fmatrix M = fmatrix_create_on_device(rows,cols);\n",
        "    // Call a kernel with a single thread to fill the values\n",
        "    fmatrix_create_random_on_device_kernel<<<1,1>>>(M);\n",
        "\n",
        "    return M;\n",
        "}\n",
        "\n",
        "/* Count the number of rows and columns in a csv files (without headers) */\n",
        "void count_elements_in_csv(const char* filename, int* rows, int* cols) {\n",
        "  // Note: for the sake of convenience, we use some C++ functions here\n",
        "  using namespace std;\n",
        "\n",
        "    *rows = 0;\n",
        "    *cols = 0;\n",
        "    string row_as_string;\n",
        "    string value;\n",
        "    ifstream infile;\n",
        "    infile.open(filename, ifstream::in);\n",
        "    if (infile.is_open()) {\n",
        "        while (getline(infile, row_as_string, '\\n')) {\n",
        "            istringstream line_stream(row_as_string);\n",
        "            int tempcols = 0;\n",
        "            while (getline(line_stream, value, ',')) {\n",
        "            ++tempcols;\n",
        "            }\n",
        "            if (tempcols > *cols) {\n",
        "            *cols = tempcols;\n",
        "            }\n",
        "            ++(*rows);\n",
        "        }\n",
        "            infile.close();\n",
        "    }\n",
        "    else cout << \"Cannot open file.\" << endl;\n",
        "}\n",
        "\n",
        "/** Read the data from a csv file into an fmatrix on the host.\n",
        " *  Careful: We assume that the matrix has the right dimensions!\n",
        " *  Use count_elements_in_csv(...) to get the dimensions if\n",
        " *  unknown.\n",
        " */\n",
        "void fmatrix_fill_from_csv(fmatrix h_M,const char* filename) {\n",
        "    // Note: for the sake of convenience, we use some C++ functions here\n",
        "    using namespace std;\n",
        "    string row_as_string;\n",
        "    string value;\n",
        "    ifstream infile;\n",
        "    infile.open(filename, ifstream::in);\n",
        "    int row = 0;\n",
        "    if (infile.is_open()) {\n",
        "        while (getline(infile, row_as_string, '\\n')) {\n",
        "                    istringstream line_stream(row_as_string);\n",
        "            int col = 0;\n",
        "            while (getline(line_stream, value, ',')) {\n",
        "                        getfm(h_M,row,col) = strtod(value.c_str(), NULL);\n",
        "            ++col;\n",
        "                    }\n",
        "            ++row;\n",
        "                }\n",
        "            infile.close();\n",
        "    }\n",
        "    else cout << \"Cannot open file.\" << endl;\n",
        "}\n",
        "\n",
        "fmatrix fmatrix_device_from_csv(const char* filename) {\n",
        "    // first read the file to count the number of elements\n",
        "    int rows = 0;\n",
        "    int cols = 0;\n",
        "    count_elements_in_csv(filename,&rows,&cols);\n",
        "\n",
        "    // allocate the matrix on the host\n",
        "    fmatrix h_M = fmatrix_create_on_host(rows,cols);\n",
        "\n",
        "    // read the data into the host matrix\n",
        "    fmatrix_fill_from_csv(h_M,filename);\n",
        "\n",
        "    // copy the matrix to the device\n",
        "    fmatrix M = fmatrix_copy_to_device(h_M);\n",
        "\n",
        "    // destroy the host matrix\n",
        "    fmatrix_free_on_host(&h_M);\n",
        "\n",
        "    return M;\n",
        "}"
      ]
    },
    {
      "cell_type": "markdown",
      "metadata": {
        "id": "xsKLTK8ELOdN"
      },
      "source": [
        "## Data I/O\n"
      ]
    },
    {
      "cell_type": "code",
      "execution_count": 36,
      "metadata": {
        "colab": {
          "base_uri": "https://localhost:8080/"
        },
        "id": "VD7rmOBmWfsC",
        "outputId": "b53da565-3cd9-45e2-835e-d6ca3e306895"
      },
      "outputs": [
        {
          "output_type": "stream",
          "name": "stdout",
          "text": [
            "Overwriting read_csv.cuh\n"
          ]
        }
      ],
      "source": [
        "%%writefile read_csv.cuh\n",
        "#include <cuda_runtime.h>\n",
        "#ifndef read_csv_H\n",
        "#define read_csv_H\n",
        "\n",
        "void read_csv(const char* filename, float* data_array, int nbrow, int nbcol);\n",
        "\n",
        "#endif"
      ]
    },
    {
      "cell_type": "code",
      "execution_count": 37,
      "metadata": {
        "colab": {
          "base_uri": "https://localhost:8080/"
        },
        "id": "BeedFsZ_WQx0",
        "outputId": "21e174df-6bd2-4103-ef1e-64ef0c974e09"
      },
      "outputs": [
        {
          "output_type": "stream",
          "name": "stdout",
          "text": [
            "Overwriting read_csv.cu\n"
          ]
        }
      ],
      "source": [
        "%%writefile read_csv.cu\n",
        "\n",
        "\n",
        "#include <stdio.h>\n",
        "#include <stdlib.h>\n",
        "#include <string.h>\n",
        "\n",
        "#include <iostream>\n",
        "#include <iomanip>\n",
        "#include <math.h>\n",
        "#include <fstream>\n",
        "\n",
        "#include \"read_csv.cuh\"\n",
        "#include \"cuda_stuff.cuh\" // for matrix indexing\n",
        "\n",
        "using namespace std;\n",
        "\n",
        "/////////////////////////////////////////////////////////\n",
        "// Functions for reading the dataset from a file\n",
        "/////////////////////////////////////////////////////////\n",
        "\n",
        "/* Read a csv file with a given number of rows and columns */\n",
        "void read_csv(const char* filename, float* data_array, int nbrow, int nbcol) {\n",
        "    string row_as_string;\n",
        "    string value;\n",
        "    double ioTemp;\n",
        "    ifstream infile;\n",
        "    infile.open(filename, ifstream::in);\n",
        "    int row_count = 0;\n",
        "\n",
        "\tif (infile.is_open()) {\n",
        "      // read the headers (and discard)\n",
        "\t\t\tgetline(infile, row_as_string, '\\n');\n",
        "      // cout << \"headers: \" << row_as_string << \"!\" << std::endl;\n",
        "      for(int i = 0; i < nbrow; i++){\n",
        "  \t\t\tgetline(infile, row_as_string, '\\n');\n",
        "        // cout << \"read line \" << row_as_string << \"!\" << std::endl;\n",
        "\t\t\t\tistringstream line_stream(row_as_string);\n",
        "\t\t\t  for(int j = 0; j < nbcol; j++){\n",
        "          getline(line_stream, value, ',');\n",
        "\t\t\t\t\tioTemp = strtod(value.c_str(), NULL);\n",
        "          // cout << \"(\"<<i<<\",\"<<j<<\") = \"<< ioTemp << std::endl;\n",
        "\n",
        "\t\t\t\t\tdata_array[IDX2C(i,j,nbrow)] = ioTemp;\n",
        "\t\t\t\t}\n",
        "        ++row_count;\n",
        "\t\t\t}\n",
        "\t\tinfile.close();\n",
        "    //cout << \"Read \" << row_count << \" rows.\" << std::endl;\n",
        "\t}\n",
        "\telse cout << \"Cannot open file.\" << endl;\n",
        "}\n",
        "\n"
      ]
    },
    {
      "cell_type": "code",
      "execution_count": 38,
      "metadata": {
        "colab": {
          "base_uri": "https://localhost:8080/"
        },
        "id": "Ex8ilQdYYroU",
        "outputId": "4238c59f-3b3a-4d1c-8edc-a281fc8e9241"
      },
      "outputs": [
        {
          "output_type": "stream",
          "name": "stdout",
          "text": [
            "Overwriting preprocess_data.cuh\n"
          ]
        }
      ],
      "source": [
        "%%writefile preprocess_data.cuh\n",
        "\n",
        "#include <cuda_runtime.h>\n",
        "#ifndef preprocess_data_H\n",
        "#define preprocess_data_H\n",
        "\n",
        "void get_inputs_and_labels(float* data_array, float** input_array, float** label_array, int nbrows, int nbcols, int nb_inputs, int nb_labels );\n",
        "\n",
        "#endif"
      ]
    },
    {
      "cell_type": "code",
      "execution_count": 39,
      "metadata": {
        "colab": {
          "base_uri": "https://localhost:8080/"
        },
        "id": "AaeUdw_KYaCx",
        "outputId": "baae3bb7-40d9-4e06-c50e-befa0ce146fc"
      },
      "outputs": [
        {
          "output_type": "stream",
          "name": "stdout",
          "text": [
            "Overwriting preprocess_data.cu\n"
          ]
        }
      ],
      "source": [
        "%%writefile preprocess_data.cu\n",
        "#include <stdio.h>\n",
        "#include <stdlib.h>\n",
        "#include <string.h>\n",
        "\n",
        "#include <iostream>\n",
        "#include <iomanip>\n",
        "#include <math.h>\n",
        "#include <fstream>\n",
        "\n",
        "/*Matrix multiplication functions and other auxiliary functions*/\n",
        "#include \"preprocess_data.cuh\"\n",
        "\n",
        "using namespace std;\n",
        "\n",
        "/* transform matrix index to vector offset\n",
        "   Since CUDA uses column major,\n",
        "   ld = number of rows\n",
        "   Example of use: a[IDX2C(0, 1, 50)] */\n",
        "#define IDX2C(i,j,ld) (((j)*(ld))+(i))\n",
        "\n",
        "//Number of thread per block\n",
        "#define THREADS_PER_BLOCK 1024\n",
        "/* Constants for housing data set */\n",
        "#define data_columns  (9)\n",
        "#define above_threshold (265000.0)\n",
        "\n",
        "/////////////////////////////////////////////////////////\n",
        "// Number of rows in arrays to print for debugging\n",
        "/////////////////////////////////////////////////////////\n",
        "#define print_rows (10)\n",
        "/////////////////////////////////////////////////////////\n",
        "// Functions for preprocessing the data set\n",
        "/////////////////////////////////////////////////////////\n",
        "\n",
        "/* Split data into inputs and labels. Allocated memory for inputs and labels.\n",
        "   Since cuBLAS is column major, each input is in a column.\n",
        "   We also add 1.0 as first element to each input vector.\n",
        "*/\n",
        "void get_inputs_and_labels(float* data_array, float** input_array, float** label_array, int nbrows, int nbcols, int nb_inputs, int nb_labels ) {\n",
        "    // The inputs are the first nbrows-1 columns.\n",
        "    // The labels are the last column (index nbrows-1), booleanized\n",
        "    // by the condition >= above_threshold\n",
        "    *input_array = (float *)malloc(nbrows * nb_inputs * sizeof(float));\n",
        "    *label_array = (float *)malloc(nbrows * nb_labels * sizeof(float));\n",
        "    //cout << &input_array << \" and \"<< &label_array << \" data \" << data_array << std::endl;\n",
        "    //cout << \"Allocated memory for inputs: \" << nbrows << \" rows, \"<< nb_inputs << \" columns.\" << std::endl;\n",
        "    //cout << \"Allocated memory for labels: \" << nbrows << \" rows, \"<< nb_labels << \" columns.\" << std::endl;\n",
        "\n",
        "    // Copy the data to X\n",
        "    for(int i = 0; i < nbrows; i++){\n",
        "        // Set the first element of each x to 1\n",
        "        (*input_array)[IDX2C(0,i,nb_inputs)] = 1.0;\n",
        "        // Copy the rest of x\n",
        "\t\t\tfor(int j = 1; j < nb_inputs; j++){\n",
        "\t\t\t\t(*input_array)[IDX2C(j,i,nb_inputs)] = data_array[IDX2C(i,j-1,nbrows)];\n",
        "\t\t\t}\n",
        "        float median_house_value = data_array[IDX2C(i,nbcols-1,nbrows)];\n",
        "        (*label_array)[IDX2C(0,i,nb_labels)] = 0.0;\n",
        "        (*label_array)[IDX2C(1,i,nb_labels)] = 0.0;\n",
        "        if (median_house_value >= above_threshold) {\n",
        "            (*label_array)[IDX2C(0,i,nb_labels)] = 1.0;\n",
        "        } else {\n",
        "            (*label_array)[IDX2C(1,i,nb_labels)] = 1.0;\n",
        "        }\n",
        "\t}\n",
        "\n",
        "    // Show some entries for double checking\n",
        "    //cout << \"Inputs (first \"<<print_rows<<\"):\" << std::endl;\n",
        "    for(int j = 0; j < nb_inputs; j++){\n",
        "        for(int i = 0; i < nbrows && i < print_rows; i++){\n",
        "                //cout << (*input_array)[IDX2C(j,i,nb_inputs)] << \"\\t\";\n",
        "            }\n",
        "        //cout << \"\\n\";\n",
        "    }\n",
        "    //cout << \"Labels (first \"<<print_rows<<\"):\" << std::endl;\n",
        "    for(int j = 0; j < nb_labels; j++){\n",
        "        for(int i = 0; i < nbrows && i < print_rows; i++){\n",
        "\t\t\t\t//cout << (*label_array)[IDX2C(j,i,nb_labels)] << \"\\t\";\n",
        "\t\t\t}\n",
        "        //cout << \"\\n\";\n",
        "\t}\n",
        "}"
      ]
    },
    {
      "cell_type": "markdown",
      "metadata": {
        "id": "rR-9WFucUWLC"
      },
      "source": [
        "# Code That You Write\n"
      ]
    },
    {
      "cell_type": "markdown",
      "metadata": {
        "id": "9pWS3hlAecOc"
      },
      "source": [
        "## Classifier Math\n"
      ]
    },
    {
      "cell_type": "code",
      "execution_count": 40,
      "metadata": {
        "colab": {
          "base_uri": "https://localhost:8080/"
        },
        "id": "rK_tmB-xbZKp",
        "outputId": "e3e81b14-56ae-44ce-c46d-702752a4d1b0"
      },
      "outputs": [
        {
          "output_type": "stream",
          "name": "stdout",
          "text": [
            "Overwriting classifier_math.cuh\n"
          ]
        }
      ],
      "source": [
        "%%writefile classifier_math.cuh\n",
        "#ifndef classifier_math_H\n",
        "#define classifier_math_H\n",
        "\n",
        "#include \"fmatrix.cuh\"\n",
        "\n",
        "/** Returns a random float between min and max (including). */\n",
        "float float_rand(float min, float max);\n",
        "\n",
        "/** Initialize W with Xavier's method,\n",
        " *  scaled by a. */\n",
        "void xavier_weight_init(float a, fmatrix W);\n",
        "\n",
        "/* Compute A = f*B*C */\n",
        "void fmatrix_mult(fmatrix A, float f, fmatrix B, fmatrix C);\n",
        "\n",
        "/* Compute A = f*B^T*C */\n",
        "void fmatrix_tmult(fmatrix A, float f, fmatrix B, fmatrix C);\n",
        "\n",
        "///////////////////////////////////\n",
        "// TO BE COMPLETED\n",
        "// ... add your matrix math here\n",
        "///////////////////////////////////\n",
        "\n",
        "/* Compute A = B-C */\n",
        "void fmatrix_sub(fmatrix A, fmatrix B, fmatrix C);\n",
        "\n",
        "/* Compute A = f*A */\n",
        "void fmatrix_scalar_mult(fmatrix A, float f);\n",
        "\n",
        "/* Compute A = f*B*C^T */\n",
        "void fmatrix_mult_t(fmatrix A, float f, fmatrix B, fmatrix C);\n",
        "\n",
        "/** Compute the softmax for each column of Z and store in P **/\n",
        "void fmatrix_stable_softmax(fmatrix P,fmatrix Z);\n",
        "\n",
        "void fmatrix_compute_mean_std(fmatrix X, float* mu, float* sigma);\n",
        "\n",
        "void fmatrix_normalize_matrix(fmatrix X, float* mu, float* sigma);\n",
        "\n",
        "#endif"
      ]
    },
    {
      "cell_type": "code",
      "execution_count": 41,
      "metadata": {
        "colab": {
          "base_uri": "https://localhost:8080/"
        },
        "id": "KgXwgv6Bbo-I",
        "outputId": "f6c2749e-4789-43d5-97d0-3272741925a1"
      },
      "outputs": [
        {
          "output_type": "stream",
          "name": "stdout",
          "text": [
            "Overwriting classifier_math.cu\n"
          ]
        }
      ],
      "source": [
        "%%writefile classifier_math.cu\n",
        "#include \"classifier_math.cuh\"\n",
        "#include \"cuda_stuff.cuh\"\n",
        "#include <cuda.h>\n",
        "#include <cuda_runtime.h>\n",
        "#include <helper_cuda.h>\n",
        "#include <math.h>\n",
        "#include <assert.h>\n",
        "#define THREADS_PER_BLOCK 1024\n",
        "\n",
        "/////////////////////////////////////////////////////////\n",
        "// Auxiliary function\n",
        "/////////////////////////////////////////////////////////\n",
        "// generate random numbers in interval [min,max]\n",
        "float float_rand(float min, float max){\n",
        "    float scale = rand() / (float) RAND_MAX; /* [0, 1.0] */\n",
        "    return min + scale * ( max - min );      /* [min, max] */\n",
        "}\n",
        "\n",
        "void xavier_weight_init(float a, fmatrix W){\n",
        "    for (int j = 0; j < W.rows  ; ++j) {\n",
        "      for (int i = 0; i < W.cols  ; ++i) {\n",
        "          getfm(W,j,i) = a * (1.0/sqrt(W.cols+W.rows)) * float_rand(-1.0,1.0);\n",
        "      }\n",
        "    }\n",
        "}\n",
        "\n",
        "__global__\n",
        "void fmatrix_stable_softmax_kernel(fmatrix P,fmatrix Z) {\n",
        "    // Each thread processes one column of Z\n",
        "    int col = blockIdx.x * blockDim.x + threadIdx.x;\n",
        "\n",
        "    if (col < Z.cols) {\n",
        "        float max_val = getfm(Z, 0, col);\n",
        "        for (int row = 1; row < Z.rows; row++) {\n",
        "            float val = getfm(Z, row, col);\n",
        "            if (val > max_val) {\n",
        "                max_val = val;\n",
        "            }\n",
        "        }\n",
        "\n",
        "        float sum = 0.0f;\n",
        "        for (int row = 0; row < Z.rows; row++) {\n",
        "            float exp_val = expf(getfm(Z, row, col) - max_val);\n",
        "            getfm(P, row, col) = exp_val;\n",
        "            sum += exp_val;\n",
        "        }\n",
        "\n",
        "        for (int row = 0; row < Z.rows; row++) {\n",
        "            getfm(P, row, col) /= sum;\n",
        "        }\n",
        "    }\n",
        "}\n",
        "\n",
        "void fmatrix_stable_softmax(fmatrix P,fmatrix Z) {\n",
        "    fmatrix_assert(P);\n",
        "    fmatrix_assert(Z);\n",
        "    assert(P.cols==Z.cols);\n",
        "    assert(P.rows==Z.rows);\n",
        "\n",
        "    int threadsPerBlock = Z.cols;\n",
        "    int blocksPerGrid = 1;\n",
        "    if (threadsPerBlock > THREADS_PER_BLOCK){\n",
        "        blocksPerGrid = (threadsPerBlock-1)/THREADS_PER_BLOCK+1;\n",
        "        threadsPerBlock = THREADS_PER_BLOCK;\n",
        "    }\n",
        "    fmatrix_stable_softmax_kernel<<< blocksPerGrid, threadsPerBlock >>>(P, Z);\n",
        "    gpuErrchk(cudaPeekAtLastError());\n",
        "    device_synchronize();\n",
        "}\n",
        "\n",
        "__global__\n",
        "void fmatrix_sub_kernel(fmatrix A, fmatrix B, fmatrix C) {\n",
        "    int row = blockIdx.x * blockDim.x + threadIdx.x;\n",
        "    int col = blockIdx.y * blockDim.y + threadIdx.y;\n",
        "\n",
        "    if (row < A.rows && col < A.cols) {\n",
        "        getfm(A, row, col) = getfm(B, row, col) - getfm(C, row, col);\n",
        "    }\n",
        "}\n",
        "\n",
        "void fmatrix_sub(fmatrix A, fmatrix B, fmatrix C) {\n",
        "    fmatrix_assert(A);\n",
        "    fmatrix_assert(B);\n",
        "    fmatrix_assert(C);\n",
        "\n",
        "    assert(A.rows == B.rows && A.cols == B.cols);\n",
        "    assert(A.rows == C.rows && A.cols == C.cols);\n",
        "\n",
        "    dim3 threadsPerBlock(16, 16);\n",
        "    dim3 blocksPerGrid((A.rows + threadsPerBlock.x - 1) / threadsPerBlock.x,\n",
        "                       (A.cols + threadsPerBlock.y - 1) / threadsPerBlock.y);\n",
        "\n",
        "    fmatrix_sub_kernel<<<blocksPerGrid, threadsPerBlock>>>(A, B, C);\n",
        "    gpuErrchk(cudaPeekAtLastError());\n",
        "    device_synchronize();\n",
        "}\n",
        "\n",
        "__global__\n",
        "void fmatrix_scalar_mult_kernel(fmatrix A, float f) {\n",
        "    int row = blockIdx.x * blockDim.x + threadIdx.x;\n",
        "    int col = blockIdx.y * blockDim.y + threadIdx.y;\n",
        "\n",
        "    if (row < A.rows && col < A.cols) {\n",
        "        getfm(A, row, col) *= f;\n",
        "    }\n",
        "}\n",
        "\n",
        "void fmatrix_scalar_mult(fmatrix A, float f) {\n",
        "    fmatrix_assert(A);\n",
        "\n",
        "    dim3 threadsPerBlock(16, 16);\n",
        "    dim3 blocksPerGrid((A.rows + threadsPerBlock.x - 1) / threadsPerBlock.x,\n",
        "                       (A.cols + threadsPerBlock.y - 1) / threadsPerBlock.y);\n",
        "\n",
        "    fmatrix_scalar_mult_kernel<<<blocksPerGrid, threadsPerBlock>>>(A, f);\n",
        "    gpuErrchk(cudaPeekAtLastError());\n",
        "    device_synchronize();\n",
        "}\n",
        "\n",
        "__global__\n",
        "void fmatrix_multiplication_kernel(fmatrix A, float f, fmatrix B, fmatrix C) {\n",
        "    // Each thread multiplies one row of B with one column of C\n",
        "    int i = blockIdx.x * blockDim.x + threadIdx.x;\n",
        "    int j = blockIdx.y * blockDim.y + threadIdx.y;\n",
        "    if (i < A.rows && j < A.cols ){\n",
        "        getfm(A,i,j) = 0.0;\n",
        "        for (int k = 0; k < B.cols; ++k) {\n",
        "          getfm(A,i,j) += f*getfm(B,i,k)*getfm(C,k,j);\n",
        "        }\n",
        "    }\n",
        "}\n",
        "\n",
        "/* Compute A = f*B*C */\n",
        "void fmatrix_mult(fmatrix A, float f, fmatrix B, fmatrix C) {\n",
        "    // First let's check for errors in the argument M.\n",
        "    // This can help a LOT when debugging.\n",
        "    // A,B,C need to have nonzero pointers etc.\n",
        "    // fmatrix_assert(A);\n",
        "    // fmatrix_assert(B);\n",
        "    // fmatrix_assert(C);\n",
        "    assert(A.rows == B.rows);\n",
        "    assert(A.cols == C.cols);\n",
        "    assert(B.cols == C.rows);\n",
        "\n",
        "    // take one thread per element, and distribute\n",
        "    // over as many blocks as necessary given\n",
        "    // the hardware limit on the number of threads per block\n",
        "    int threadsPerBlock = fmatrix_elements(A);\n",
        "    int blocksPerGrid = 1;\n",
        "    if (threadsPerBlock > THREADS_PER_BLOCK){\n",
        "        blocksPerGrid = (threadsPerBlock-1)/THREADS_PER_BLOCK+1;\n",
        "        threadsPerBlock = THREADS_PER_BLOCK;\n",
        "    }\n",
        "    fmatrix_multiplication_kernel<<< blocksPerGrid, threadsPerBlock >>>(A,f,B,C);\n",
        "    // check for errors\n",
        "    gpuErrchk( cudaPeekAtLastError() );\n",
        "    // wait for the kernel to finish\n",
        "    device_synchronize();\n",
        "}\n",
        "\n",
        "//// Multiplication de matrice avec transposé\n",
        "__global__\n",
        "void fmatrix_tmultiplication_kernel(fmatrix A, float f, fmatrix B, fmatrix C) {\n",
        "    // Each thread multiplies one row of B with one column of C\n",
        "    int idx = blockIdx.x*blockDim.x+threadIdx.x;\n",
        "    int j = idx / A.rows;\n",
        "    int i = idx % A.rows;\n",
        "    if (i < A.rows && j < A.cols ){\n",
        "        getfm(A,i,j) = 0.0;\n",
        "        for (int k = 0; k < B.rows; ++k) {\n",
        "          getfm(A,i,j) += f*getfm(B,k,i)*getfm(C,k,j);\n",
        "        }\n",
        "    }\n",
        "}\n",
        "\n",
        "/* Compute A = f*B^T*C */\n",
        "void fmatrix_tmult(fmatrix A, float f, fmatrix B, fmatrix C) {\n",
        "    // First let's check for errors in the argument M.\n",
        "    // This can help a LOT when debugging.\n",
        "    // A,B,C need to have nonzero pointers etc.\n",
        "    // fmatrix_assert(A);\n",
        "    // fmatrix_assert(B);\n",
        "    // fmatrix_assert(C);\n",
        "    assert(A.rows == B.cols);\n",
        "    assert(A.cols == C.cols);\n",
        "    assert(B.rows == C.rows);\n",
        "\n",
        "    // take one thread per element, and distribute\n",
        "    // over as many blocks as necessary given\n",
        "    // the hardware limit on the number of threads per block\n",
        "    int threadsPerBlock = fmatrix_elements(A);\n",
        "    int blocksPerGrid = 1;\n",
        "    if (threadsPerBlock > THREADS_PER_BLOCK){\n",
        "        blocksPerGrid = (threadsPerBlock-1)/THREADS_PER_BLOCK+1;\n",
        "        threadsPerBlock = THREADS_PER_BLOCK;\n",
        "    }\n",
        "    fmatrix_tmultiplication_kernel<<< blocksPerGrid, threadsPerBlock >>>(A,f,B,C);\n",
        "    // check for errors\n",
        "    gpuErrchk(cudaPeekAtLastError());\n",
        "    // wait for the kernel to finish\n",
        "    device_synchronize();\n",
        "}\n",
        "\n",
        "/* Compute A = f*B*C^T */\n",
        "__global__\n",
        "void fmatrix_multiplication_t_kernel(fmatrix A, float f, fmatrix B, fmatrix C) {\n",
        "    int row = blockIdx.x * blockDim.x + threadIdx.x;\n",
        "    int col = blockIdx.y * blockDim.y + threadIdx.y;\n",
        "\n",
        "    if (row < A.rows && col < A.cols) {\n",
        "        float sum = 0.0;\n",
        "        for (int k = 0; k < B.cols; ++k) {\n",
        "            sum += f * getfm(B, row, k) * getfm(C, col, k);\n",
        "        }\n",
        "        getfm(A, row, col) = sum;\n",
        "    }\n",
        "}\n",
        "\n",
        "/* Compute A = f*B*C^T */\n",
        "void fmatrix_mult_t(fmatrix A, float f, fmatrix B, fmatrix C) {\n",
        "    // Argument checks\n",
        "    assert(A.rows == B.rows);\n",
        "    assert(A.cols == C.rows);\n",
        "    assert(B.cols == C.cols);\n",
        "\n",
        "    // Distribute threads\n",
        "    int threadsPerBlock = fmatrix_elements(A);\n",
        "    int blocksPerGrid = 1;\n",
        "    if (threadsPerBlock > THREADS_PER_BLOCK) {\n",
        "        blocksPerGrid = (threadsPerBlock - 1) / THREADS_PER_BLOCK + 1;\n",
        "        threadsPerBlock = THREADS_PER_BLOCK;\n",
        "    }\n",
        "\n",
        "    fmatrix_multiplication_t_kernel<<<blocksPerGrid, threadsPerBlock>>>(A, f, B, C);\n",
        "\n",
        "    // Check for errors and synchronize\n",
        "    gpuErrchk(cudaPeekAtLastError());\n",
        "    device_synchronize();\n",
        "}\n",
        "\n",
        "__global__\n",
        "void compute_mean_std_kernel(fmatrix X, float* mu, float* sigma) {\n",
        "    int idx = blockIdx.x * blockDim.x + threadIdx.x;\n",
        "\n",
        "    if (idx < X.rows) {\n",
        "        float sum = 0.0, sum_sq = 0.0;\n",
        "\n",
        "        for (int j = 0; j < X.cols; j++) {\n",
        "            float val = getfm(X, idx, j);\n",
        "            sum += val;\n",
        "            sum_sq += val * val;\n",
        "        }\n",
        "\n",
        "        mu[idx] = sum / X.cols;\n",
        "        float variance = (sum_sq / X.cols) - (mu[idx] * mu[idx]);\n",
        "        sigma[idx] = sqrtf(variance + 1e-6); // Avoid division by zero\n",
        "    }\n",
        "}\n",
        "\n",
        "void fmatrix_compute_mean_std(fmatrix X, float* mu, float* sigma) {\n",
        "    fmatrix_assert(X);\n",
        "\n",
        "    // Allocate device memory\n",
        "    float* d_mu, *d_sigma;\n",
        "    gpuErrchk(cudaMalloc((void**)&d_mu, X.rows * sizeof(float)));\n",
        "    gpuErrchk(cudaMalloc((void**)&d_sigma, X.rows * sizeof(float)));\n",
        "\n",
        "    // Allocate matrix on device\n",
        "    fmatrix d_X = fmatrix_create_on_device(X.rows, X.cols);\n",
        "    fmatrix_data_to_device(X, d_X);\n",
        "\n",
        "    // Launch kernel\n",
        "    int blocks = (X.rows + THREADS_PER_BLOCK - 1) / THREADS_PER_BLOCK;\n",
        "    compute_mean_std_kernel<<<blocks, THREADS_PER_BLOCK>>>(d_X, d_mu, d_sigma);\n",
        "    gpuErrchk(cudaPeekAtLastError());\n",
        "    gpuErrchk(cudaDeviceSynchronize());\n",
        "\n",
        "    // Copy results back to host\n",
        "    gpuErrchk(cudaMemcpy(mu, d_mu, X.rows * sizeof(float), cudaMemcpyDeviceToHost));\n",
        "    gpuErrchk(cudaMemcpy(sigma, d_sigma, X.rows * sizeof(float), cudaMemcpyDeviceToHost));\n",
        "\n",
        "    // Free device memory\n",
        "    cudaFree(d_mu);\n",
        "    cudaFree(d_sigma);\n",
        "    fmatrix_free_on_device(&d_X);\n",
        "}\n",
        "\n",
        "__global__\n",
        "void normalize_matrix_kernel(fmatrix X, float* mu, float* sigma) {\n",
        "    int idx = blockIdx.x * blockDim.x + threadIdx.x;\n",
        "\n",
        "    if (idx < X.rows) {\n",
        "        for (int j = 0; j < X.cols; j++) {\n",
        "            getfm(X, idx, j) = (getfm(X, idx, j) - mu[idx]) / sigma[idx];\n",
        "        }\n",
        "    }\n",
        "}\n",
        "\n",
        "void fmatrix_normalize_matrix(fmatrix X, float* mu, float* sigma) {\n",
        "    fmatrix_assert(X);\n",
        "\n",
        "    // Allocate GPU memory\n",
        "    fmatrix d_X = fmatrix_create_on_device(X.rows, X.cols);\n",
        "    fmatrix_data_to_device(X, d_X);\n",
        "\n",
        "    // Copy mu and sigma to device\n",
        "    float* d_mu, *d_sigma;\n",
        "    gpuErrchk(cudaMalloc((void**)&d_mu, X.rows * sizeof(float)));\n",
        "    gpuErrchk(cudaMalloc((void**)&d_sigma, X.rows * sizeof(float)));\n",
        "\n",
        "    gpuErrchk(cudaMemcpy(d_mu, mu, X.rows * sizeof(float), cudaMemcpyHostToDevice));\n",
        "    gpuErrchk(cudaMemcpy(d_sigma, sigma, X.rows * sizeof(float), cudaMemcpyHostToDevice));\n",
        "\n",
        "    // Launch kernel\n",
        "    int blocks = (X.rows + THREADS_PER_BLOCK - 1) / THREADS_PER_BLOCK;\n",
        "    normalize_matrix_kernel<<<blocks, THREADS_PER_BLOCK>>>(d_X, d_mu, d_sigma);\n",
        "\n",
        "    // Check for kernel errors\n",
        "    gpuErrchk(cudaPeekAtLastError());\n",
        "    gpuErrchk(cudaDeviceSynchronize());\n",
        "\n",
        "    // Copy results back to host\n",
        "    fmatrix_data_to_host(X, d_X);\n",
        "\n",
        "    // Free GPU memory\n",
        "    cudaFree(d_mu);\n",
        "    cudaFree(d_sigma);\n",
        "    fmatrix_free_on_device(&d_X);\n",
        "}"
      ]
    },
    {
      "cell_type": "markdown",
      "metadata": {
        "id": "I6G22rDKR3rv"
      },
      "source": [
        "## Evaluating Accuracy\n"
      ]
    },
    {
      "cell_type": "code",
      "execution_count": 42,
      "metadata": {
        "colab": {
          "base_uri": "https://localhost:8080/"
        },
        "id": "Bd7Vmzo72hpC",
        "outputId": "9b3112c2-e695-46f6-9351-d4d8ab366fa6"
      },
      "outputs": [
        {
          "output_type": "stream",
          "name": "stdout",
          "text": [
            "Overwriting evaluate_accuracy.cuh\n"
          ]
        }
      ],
      "source": [
        "%%writefile evaluate_accuracy.cuh\n",
        "\n",
        "/** Evaluate the accuracy of a linear classifier with D x M weight\n",
        " *  matrix W, using D x N input data X and M x N output labels Y.\n",
        " *  Z is a temporary matrix with dimensions M x N,\n",
        " *  which must be previously allocated.\n",
        " */\n",
        "float evaluate_accuracy(fmatrix d_W, fmatrix d_X, fmatrix d_Y, fmatrix d_Z);\n",
        "\n",
        "/** Compute the logloss given M x N matrices of\n",
        " *  probabilities P and output labels Y\n",
        " *  and stores it in J.\n",
        " *  J is a matrix with dimensions 1 x 1,\n",
        " *  which must be previously allocated.\n",
        " *  logloss = sum_j -Y(j,k)*log(P(j,k))\n",
        " */\n",
        "float evaluate_logloss(fmatrix d_P, fmatrix d_Y);"
      ]
    },
    {
      "cell_type": "code",
      "execution_count": 43,
      "metadata": {
        "colab": {
          "base_uri": "https://localhost:8080/"
        },
        "id": "-0Z-9B4a2dwg",
        "outputId": "99b5419e-1aad-485a-bf25-d37c45a9cbad"
      },
      "outputs": [
        {
          "output_type": "stream",
          "name": "stdout",
          "text": [
            "Overwriting evaluate_accuracy.cu\n"
          ]
        }
      ],
      "source": [
        "%%writefile evaluate_accuracy.cu\n",
        "#include \"fmatrix.cuh\"\n",
        "#include \"classifier_math.cuh\"\n",
        "#include <assert.h>\n",
        "\n",
        "#define THREADS_PER_BLOCK 1024\n",
        "\n",
        "__global__\n",
        "void evaluate_accuracy_kernel(fmatrix d_Y, fmatrix d_Z, int* count) {\n",
        "    int idx = blockIdx.x*blockDim.x+threadIdx.x;\n",
        "    if (idx < d_Z.cols){\n",
        "        float z_max = getfm(d_Z,0,idx);\n",
        "        int i_max = 0;\n",
        "        for (int i = 1; i < d_Z.rows; ++i) {\n",
        "          if (getfm(d_Z,i,idx)>z_max) {\n",
        "                z_max = getfm(d_Z,i,idx);\n",
        "                i_max = i;\n",
        "          }\n",
        "        }\n",
        "      if (getfm(d_Y,i_max,idx)>=0.5f) {\n",
        "          atomicAdd(count,1);\n",
        "      }\n",
        "    }\n",
        "}\n",
        "\n",
        "float evaluate_accuracy(fmatrix d_W, fmatrix d_X, fmatrix d_Y, fmatrix d_Z) {\n",
        "    assert(d_Y.cols == d_Z.cols);\n",
        "    assert(d_Y.rows == d_Z.rows);\n",
        "\n",
        "    //////////////////////////////////////////\n",
        "    // 1. compute Z = W^T X\n",
        "    // --> each column of Z corresponds to one input\n",
        "    //////////////////////////////////////////\n",
        "    /*********************************\n",
        "    / TO BE COMPLETED\n",
        "    / ... compute Z = W^T X here ...\n",
        "    **********************************/\n",
        "    fmatrix_tmult(d_Z, 1.0, d_W, d_X);\n",
        "\n",
        "    //////////////////////////////////////////\n",
        "    // 2. For each column z of Z,\n",
        "    // find argmax_k z_k\n",
        "    //////////////////////////////////////////\n",
        "    fmatrix d_P = fmatrix_create_on_device(d_Z.rows, d_Z.cols);\n",
        "    fmatrix_stable_softmax(d_P, d_Z);\n",
        "\n",
        "    int true_class = 0;\n",
        "\n",
        "    int* d_count = 0;\n",
        "    gpuErrchk(cudaMalloc((void **)&d_count, sizeof(int)));\n",
        "    gpuErrchk(\n",
        "          cudaMemcpy( d_count, &true_class, sizeof(int), cudaMemcpyHostToDevice )\n",
        "    );\n",
        "\n",
        "    int threadsPerBlock = d_Z.cols;\n",
        "    int blocksPerGrid = 1;\n",
        "    if (threadsPerBlock > THREADS_PER_BLOCK){\n",
        "        blocksPerGrid = (threadsPerBlock-1)/THREADS_PER_BLOCK+1;\n",
        "        threadsPerBlock = THREADS_PER_BLOCK;\n",
        "    }\n",
        "    evaluate_accuracy_kernel<<< blocksPerGrid, threadsPerBlock >>>(d_Y, d_P, d_count);\n",
        "    device_synchronize();\n",
        "    gpuErrchk( cudaPeekAtLastError() );\n",
        "\n",
        "    gpuErrchk(\n",
        "            cudaMemcpy(&true_class, d_count, sizeof(int), cudaMemcpyDeviceToHost )\n",
        "    );\n",
        "\n",
        "    //int nb_tested = d_Z.cols;\n",
        "    //printf(\"Correct results: %d out of %d\\n\",true_class,nb_tested);\n",
        "    //printf(\"Accuracy: %f\\n\",(float)true_class/(float)nb_tested);\n",
        "    return (float)true_class/(float)d_Z.cols;\n",
        "}\n",
        "\n",
        "__global__\n",
        "void evaluate_logloss_kernel(fmatrix d_P, fmatrix d_Y, float* loss_sum) {\n",
        "    int idx = blockIdx.x * blockDim.x + threadIdx.x;\n",
        "    if (idx < d_P.cols) {\n",
        "        float loss = 0.0f;\n",
        "        for (int i = 0; i < d_P.rows; i++) {\n",
        "            float p = getfm(d_P, i, idx);\n",
        "            float y = getfm(d_Y, i, idx);\n",
        "            if (y > 0.0f) {  // Only compute log for true class entries\n",
        "                loss += y * logf(fmaxf(p, 1e-8f));  // Prevent log(0) by using fmaxf\n",
        "            }\n",
        "        }\n",
        "        atomicAdd(loss_sum, -loss);\n",
        "    }\n",
        "}\n",
        "\n",
        "float evaluate_logloss(fmatrix d_P, fmatrix d_Y) {\n",
        "    assert(d_Y.cols == d_P.cols);\n",
        "    assert(d_Y.rows == d_P.rows);\n",
        "\n",
        "    ///////////////////////////////////\n",
        "    // TO BE COMPLETED\n",
        "    // ... compute the logloss here ...\n",
        "    ///////////////////////////////////\n",
        "\n",
        "    float J = 0.0f;\n",
        "    float* d_loss_sum;\n",
        "    gpuErrchk(cudaMalloc((void**)&d_loss_sum, sizeof(float)));\n",
        "    gpuErrchk(cudaMemcpy(d_loss_sum, &J, sizeof(float), cudaMemcpyHostToDevice));\n",
        "\n",
        "    int threadsPerBlock = d_P.cols;\n",
        "    int blocksPerGrid = (threadsPerBlock > THREADS_PER_BLOCK) ?\n",
        "                        (threadsPerBlock - 1) / THREADS_PER_BLOCK + 1 : 1;\n",
        "    threadsPerBlock = min(threadsPerBlock, THREADS_PER_BLOCK);\n",
        "\n",
        "    evaluate_logloss_kernel<<<blocksPerGrid, threadsPerBlock>>>(d_P, d_Y, d_loss_sum);\n",
        "\n",
        "    device_synchronize();\n",
        "    gpuErrchk(cudaPeekAtLastError());\n",
        "    gpuErrchk(cudaMemcpy(&J, d_loss_sum, sizeof(float), cudaMemcpyDeviceToHost));\n",
        "\n",
        "    cudaFree(d_loss_sum);\n",
        "\n",
        "    return J / d_P.cols;  // Normalize by number of samples\n",
        "}"
      ]
    },
    {
      "cell_type": "code",
      "execution_count": 44,
      "metadata": {
        "id": "wfa-J75-JjIk"
      },
      "outputs": [],
      "source": [
        "!shuf sample_data/california_housing_train.csv > california_housing_train_shuf.csv"
      ]
    },
    {
      "cell_type": "markdown",
      "metadata": {
        "id": "8AwZh8WULi_F"
      },
      "source": [
        "## Linear Classifier\n"
      ]
    },
    {
      "cell_type": "code",
      "execution_count": 45,
      "metadata": {
        "colab": {
          "base_uri": "https://localhost:8080/"
        },
        "id": "QWO5p1NeHE9n",
        "outputId": "b60ae9b2-328d-4866-8031-41f2673f5a42"
      },
      "outputs": [
        {
          "output_type": "stream",
          "name": "stdout",
          "text": [
            "Overwriting linear_classification.cu\n"
          ]
        }
      ],
      "source": [
        "%%writefile linear_classification.cu\n",
        "\n",
        "#include <stdio.h>\n",
        "#include <stdlib.h>\n",
        "#include <string.h>\n",
        "\n",
        "#include <iostream>\n",
        "#include <iomanip>\n",
        "#include <math.h>\n",
        "#include <time.h>\n",
        "#include <fstream>\n",
        "\n",
        "/*Matrix multiplication functions and other auxiliary functions*/\n",
        "#include \"fmatrix.cuh\"\n",
        "#include \"read_csv.cuh\"\n",
        "#include \"preprocess_data.cuh\"\n",
        "#include \"classifier_math.cuh\"\n",
        "#include \"evaluate_accuracy.cuh\"\n",
        "/* Includes, cuda */\n",
        "#include <cuda_runtime.h>\n",
        "#include <helper_cuda.h>\n",
        "\n",
        "using namespace std;\n",
        "\n",
        "//Number of thread per block\n",
        "#define THREADS_PER_BLOCK 1024\n",
        "/* Constants for housing data set */\n",
        "#define data_columns  (9)\n",
        "#define above_threshold (265000.0)\n",
        "\n",
        "/////////////////////////////////////////////////////////\n",
        "// Number of rows in arrays to print for debugging\n",
        "/////////////////////////////////////////////////////////\n",
        "#define print_rows (10)\n",
        "\n",
        "/////////////////////////////////////////////////////////\n",
        "// Main program\n",
        "/////////////////////////////////////////////////////////\n",
        "int main(int argc, char **argv) {\n",
        "    /////////////////////////////////////////////////////////\n",
        "    // Parameters for the data set\n",
        "    /////////////////////////////////////////////////////////\n",
        "    size_t N_train = 12000; // points for training (Google: 12000)\n",
        "    size_t N_test = 5000; // points for validation (Google: 5000)\n",
        "    size_t N = N_train;\n",
        "    size_t Nall = N_train + N_test;\n",
        "\n",
        "    /////////////////////////////////////////////////////////\n",
        "    // Reading the data set\n",
        "    /////////////////////////////////////////////////////////\n",
        "    fmatrix alldata = fmatrix_create_on_host(Nall, data_columns);\n",
        "    read_csv(\"california_housing_train_shuf.csv\", alldata.data, Nall,data_columns);\n",
        "    //fmatrix_print(alldata);\n",
        "\n",
        "    size_t D = data_columns - 1 + 1; // remove output column, add column with const. 1.0\n",
        "    size_t M = 2; // number of labels (one-hot encoding)\n",
        "    fmatrix Xall = fmatrix_create_on_host(D, Nall);\n",
        "    fmatrix Yall = fmatrix_create_on_host(M, Nall);\n",
        "    get_inputs_and_labels(alldata.data, &Xall.data, &Yall.data, Nall, data_columns, D, M);\n",
        "    /////////////////////////////////////////////////////////\n",
        "    // Inputs and labels are now available in X and Y.\n",
        "    // Each input is a column in X; X is of dimension D x N\n",
        "    // each label is a column in Y; Y is of dimension M x N\n",
        "    /////////////////////////////////////////////////////////\n",
        "\n",
        "    // Logfile\n",
        "    FILE* fp = fopen(\"log.txt\", \"w\");\n",
        "\n",
        "    /////////////////////////////////////////////////////////\n",
        "    // Parameters for Stochastic Gradient Descent\n",
        "    /////////////////////////////////////////////////////////\n",
        "    int nb_iter = 20;           // defeault: 10;\n",
        "    int periods = nb_iter;      // reporting period\n",
        "    int batch_size = N;         // defeault: N;\n",
        "    float learning_rate = 1e-4; // default: 1e-7\n",
        "\n",
        "    /////////////////////////////////////////////////////////\n",
        "    // Memory Allocation and Initialization\n",
        "    /////////////////////////////////////////////////////////\n",
        "    // take X,Y to be the first N columns of all data\n",
        "    fmatrix h_X = fmatrix_subcolumns(Xall, 0, N);\n",
        "    fmatrix h_Y = fmatrix_subcolumns(Yall, 0, N);\n",
        "    fmatrix h_Xtest = fmatrix_subcolumns(Xall, N, Nall);\n",
        "    fmatrix h_Ytest = fmatrix_subcolumns(Yall, N, Nall);\n",
        "    fmatrix h_W = fmatrix_create_on_host(D, M);\n",
        "    fmatrix h_J = fmatrix_create_on_host(1, 1);\n",
        "\n",
        "    /////////////////////////////////////////////////////////\n",
        "    // Initializing Weight Matrix\n",
        "    // its dimension is D x M\n",
        "    /////////////////////////////////////////////////////////\n",
        "    xavier_weight_init(1.0, h_W);\n",
        "\n",
        "    /////////////////////////////////////////////////////////\n",
        "    // Normalize d_X\n",
        "    /////////////////////////////////////////////////////////\n",
        "    float* mu = (float*)malloc(h_X.rows * sizeof(float));\n",
        "    float* sigma = (float*)malloc(h_X.rows * sizeof(float));\n",
        "    fmatrix_compute_mean_std(h_X, mu, sigma);\n",
        "\n",
        "    fmatrix_normalize_matrix(h_X, mu, sigma);\n",
        "    fmatrix_normalize_matrix(h_Xtest, mu, sigma);\n",
        "\n",
        "    //////////////////////////////\n",
        "    // Copy data to device\n",
        "    //////////////////////////////\n",
        "    fmatrix d_X = fmatrix_copy_to_device(h_X);\n",
        "    fmatrix d_Y = fmatrix_copy_to_device(h_Y);\n",
        "    fmatrix d_Xtest = fmatrix_copy_to_device(h_Xtest);\n",
        "    fmatrix d_Ytest = fmatrix_copy_to_device(h_Ytest);\n",
        "    fmatrix d_W = fmatrix_copy_to_device(h_W);\n",
        "    fmatrix d_J = fmatrix_copy_to_device(h_J);\n",
        "\n",
        "    /////////////////////////////////////////\n",
        "    // Create auxiliary matrices on device\n",
        "    /////////////////////////////////////////\n",
        "    fmatrix d_Z = fmatrix_create_on_device(M, batch_size);\n",
        "    fmatrix d_P = fmatrix_create_on_device(M, batch_size);\n",
        "    fmatrix d_Q = fmatrix_create_on_device(M, batch_size);\n",
        "    fmatrix d_G = fmatrix_create_on_device(D, M);\n",
        "    // auxiliary matrix for computing Z=W^T X on test data\n",
        "    fmatrix d_Ztest = fmatrix_create_on_device(M, d_Xtest.cols);\n",
        "\n",
        "    /////////////////////////////////////////////////////////\n",
        "    // Batch Gradient Descent\n",
        "    /////////////////////////////////////////////////////////\n",
        "    //fmatrix_device_print(d_X);\n",
        "    //fmatrix_device_print(d_W);\n",
        "\n",
        "    /* Evaluate the accuracy */\n",
        "    float accuracy = 0;\n",
        "    accuracy = evaluate_accuracy(d_W, d_Xtest, d_Ytest, d_Ztest);\n",
        "    printf(\"initial accuracy: %f\\n\",accuracy);\n",
        "\n",
        "    float J = 0;\n",
        "\n",
        "    clock_t tstart_total, tend;\n",
        "    tstart_total = clock();\n",
        "\n",
        "    for (int i = 0; i < nb_iter; ++i) {\n",
        "      ////////////////////////////////\n",
        "      // compute Z = W^T X\n",
        "      // --> each column z of Z corresponds to one column x of X\n",
        "      ////////////////////////////////\n",
        "      fmatrix_tmult(d_Z, 1.0, d_W, d_X);\n",
        "\n",
        "      ////////////////////////////////\n",
        "      // For each column z of Z, compute activation p(z);\n",
        "      // then update W\n",
        "      ////////////////////////////////\n",
        "      // compute softmax per column of Z and store in Z\n",
        "      fmatrix_stable_softmax(d_P, d_Z);\n",
        "\n",
        "      // evaluate logloss (for reporting only)\n",
        "      J = evaluate_logloss(d_P, d_Y);\n",
        "\n",
        "      // Q:=P-Y\n",
        "      fmatrix_sub(d_Q, d_P, d_Y);\n",
        "\n",
        "      // compute gradient G = XQ^T\n",
        "      fmatrix_mult_t(d_G, 1.0, d_X, d_Q);\n",
        "\n",
        "      // update weights W = W - learning_rate*G\n",
        "      fmatrix_scalar_mult(d_G, learning_rate);\n",
        "      fmatrix_sub(d_W, d_W, d_G);\n",
        "\n",
        "      device_synchronize();\n",
        "\n",
        "      ////////////////////////////////\n",
        "      // Compute logloss and accuracy\n",
        "      ////////////////////////////////\n",
        "      if (i % (nb_iter / periods) == 0) {\n",
        "        float accuracy = evaluate_accuracy(d_W, d_Xtest, d_Ytest, d_Ztest);\n",
        "        printf(\"Iter: %d, LogLoss: %f, Accuracy:  %f\\n\", i, J, accuracy);\n",
        "        fprintf(fp, \"%f,%f\\n\", J, accuracy);\n",
        "      }\n",
        "    }\n",
        "\n",
        "    tend = clock();\n",
        "    float duration = ((float)(tend-tstart_total))/CLOCKS_PER_SEC;\n",
        "    printf(\"Duration (s): %f\\n\",duration);\n",
        "    /* Evaluate the accuracy */\n",
        "    accuracy = evaluate_accuracy(d_W, d_Xtest, d_Ytest, d_Ztest);\n",
        "    printf(\"final accuracy: %f\\n\",accuracy);\n",
        "\n",
        "    printf(\"final weights: \\n\");\n",
        "    fmatrix_device_print(d_W);\n",
        "\n",
        "    /* Memory clean up */\n",
        "    /** No need to free h_X, h_Y, h_Xtest, h_Ytest since\n",
        "     *  they all point to Xall\n",
        "     */\n",
        "    fmatrix_free_on_host(&h_W);\n",
        "    fmatrix_free_on_host(&Xall);\n",
        "    fmatrix_free_on_host(&Yall);\n",
        "\n",
        "    fmatrix_free_on_device(&d_X);\n",
        "    fmatrix_free_on_device(&d_Y);\n",
        "    fmatrix_free_on_device(&d_Xtest);\n",
        "    fmatrix_free_on_device(&d_Ytest);\n",
        "    fmatrix_free_on_device(&d_W);\n",
        "    fmatrix_free_on_device(&d_Z);\n",
        "    fmatrix_free_on_device(&d_J);\n",
        "\n",
        "    // Close log file\n",
        "    fclose(fp);\n",
        "}"
      ]
    },
    {
      "cell_type": "markdown",
      "metadata": {
        "id": "v2zAMrbM2MIA"
      },
      "source": [
        "## Linear Classifier with batches\n"
      ]
    },
    {
      "cell_type": "code",
      "execution_count": 46,
      "metadata": {
        "colab": {
          "base_uri": "https://localhost:8080/"
        },
        "id": "bcmwOZVk2fwq",
        "outputId": "c89c5d70-04c3-4680-f647-0c2623757176"
      },
      "outputs": [
        {
          "output_type": "stream",
          "name": "stdout",
          "text": [
            "Overwriting linear_classification_batches.cu\n"
          ]
        }
      ],
      "source": [
        "%%writefile linear_classification_batches.cu\n",
        "\n",
        "#include <stdio.h>\n",
        "#include <stdlib.h>\n",
        "#include <string.h>\n",
        "\n",
        "#include <iostream>\n",
        "#include <iomanip>\n",
        "#include <math.h>\n",
        "#include <time.h>\n",
        "#include <fstream>\n",
        "\n",
        "/*Matrix multiplication functions and other auxiliary functions*/\n",
        "#include \"fmatrix.cuh\"\n",
        "#include \"read_csv.cuh\"\n",
        "#include \"preprocess_data.cuh\"\n",
        "#include \"classifier_math.cuh\"\n",
        "#include \"evaluate_accuracy.cuh\"\n",
        "/* Includes, cuda */\n",
        "#include <cuda_runtime.h>\n",
        "#include <helper_cuda.h>\n",
        "\n",
        "using namespace std;\n",
        "\n",
        "//Number of thread per block\n",
        "#define THREADS_PER_BLOCK 1024\n",
        "/* Constants for housing data set */\n",
        "#define data_columns  (9)\n",
        "#define above_threshold (265000.0)\n",
        "\n",
        "// SGD Mini Batch Parameters\n",
        "#define BATCH_SIZE 128\n",
        "\n",
        "/////////////////////////////////////////////////////////\n",
        "// Number of rows in arrays to print for debugging\n",
        "/////////////////////////////////////////////////////////\n",
        "#define print_rows (10)\n",
        "\n",
        "/////////////////////////////////////////////////////////\n",
        "// Main program\n",
        "/////////////////////////////////////////////////////////\n",
        "int main(int argc, char **argv) {\n",
        "    /////////////////////////////////////////////////////////\n",
        "    // Parameters for the data set\n",
        "    /////////////////////////////////////////////////////////\n",
        "    size_t N_train = 12000; //12000; // points for training (Google: 12000)\n",
        "    size_t N_test = 5000; // 5000; // points for validation (Google: 5000)\n",
        "    size_t N = N_train;\n",
        "    size_t Nall = N_train + N_test;\n",
        "\n",
        "    /////////////////////////////////////////////////////////\n",
        "    // Reading the data set\n",
        "    /////////////////////////////////////////////////////////\n",
        "    fmatrix alldata = fmatrix_create_on_host(Nall, data_columns);\n",
        "    read_csv(\"california_housing_train_shuf.csv\", alldata.data, Nall, data_columns);\n",
        "    //fmatrix_print(alldata);\n",
        "\n",
        "    size_t D = data_columns - 1 + 1; // remove output column, add column with const. 1.0\n",
        "    size_t M = 2; // number of labels (one-hot encoding)\n",
        "    fmatrix Xall = fmatrix_create_on_host(D, Nall);\n",
        "    fmatrix Yall = fmatrix_create_on_host(M, Nall);\n",
        "    get_inputs_and_labels(alldata.data, &Xall.data, &Yall.data, Nall, data_columns, D, M);\n",
        "\n",
        "    /////////////////////////////////////////////////////////\n",
        "    // Inputs and labels are now available in X and Y.\n",
        "    // Each input is a column in X; X is of dimension D x N\n",
        "    // each label is a column in Y; Y is of dimension M x N\n",
        "    /////////////////////////////////////////////////////////\n",
        "\n",
        "    // Logfile\n",
        "    FILE* fp = fopen(\"log_batches.txt\", \"w\");\n",
        "\n",
        "    /////////////////////////////////////////////////////////\n",
        "    // Parameters for Stochastic Gradient Descent\n",
        "    /////////////////////////////////////////////////////////\n",
        "    int nb_epochs = 20;                 // defeault: 10;\n",
        "    float learning_rate = 1e-4;         // default: 1e-7\n",
        "\n",
        "    /////////////////////////////////////////////////////////\n",
        "    // Memory Allocation and Initialization\n",
        "    /////////////////////////////////////////////////////////\n",
        "    // take X,Y to be the first N columns of all data\n",
        "    fmatrix h_X = fmatrix_subcolumns(Xall, 0, N);\n",
        "    fmatrix h_Y = fmatrix_subcolumns(Yall, 0, N);\n",
        "    fmatrix h_Xtest = fmatrix_subcolumns(Xall, N, Nall);\n",
        "    fmatrix h_Ytest = fmatrix_subcolumns(Yall, N, Nall);\n",
        "    fmatrix h_W = fmatrix_create_on_host(D, M);\n",
        "    fmatrix h_J = fmatrix_create_on_host(1, 1);\n",
        "\n",
        "    /////////////////////////////////////////////////////////\n",
        "    // Initializing Weight Matrix\n",
        "    // its dimension is D x M\n",
        "    /////////////////////////////////////////////////////////\n",
        "    xavier_weight_init(1.0, h_W);\n",
        "\n",
        "    /////////////////////////////////////////////////////////\n",
        "    // Normalize d_X\n",
        "    /////////////////////////////////////////////////////////\n",
        "    float* mu = (float*)malloc(h_X.rows * sizeof(float));\n",
        "    float* sigma = (float*)malloc(h_X.rows * sizeof(float));\n",
        "    fmatrix_compute_mean_std(h_X, mu, sigma);\n",
        "\n",
        "    fmatrix_normalize_matrix(h_X, mu, sigma);\n",
        "    fmatrix_normalize_matrix(h_Xtest, mu, sigma);\n",
        "\n",
        "    //////////////////////////////\n",
        "    // Copy data to device      //\n",
        "    //////////////////////////////\n",
        "    fmatrix d_X = fmatrix_copy_to_device(h_X);\n",
        "    fmatrix d_Y = fmatrix_copy_to_device(h_Y);\n",
        "    fmatrix d_Xtest = fmatrix_copy_to_device(h_Xtest);\n",
        "    fmatrix d_Ytest = fmatrix_copy_to_device(h_Ytest);\n",
        "    fmatrix d_W = fmatrix_copy_to_device(h_W);\n",
        "    fmatrix d_J = fmatrix_copy_to_device(h_J);\n",
        "\n",
        "    /////////////////////////////////////////\n",
        "    // Create auxiliary matrices on device //\n",
        "    /////////////////////////////////////////\n",
        "    fmatrix d_Z = fmatrix_create_on_device(M, BATCH_SIZE);\n",
        "    fmatrix d_P = fmatrix_create_on_device(M, BATCH_SIZE);\n",
        "    fmatrix d_Q = fmatrix_create_on_device(M, BATCH_SIZE);\n",
        "    fmatrix d_G = fmatrix_create_on_device(D, M);\n",
        "    // auxiliary matrix for computing Z=W^T X on test data\n",
        "    fmatrix d_Ztest = fmatrix_create_on_device(M, d_Xtest.cols);\n",
        "\n",
        "    /////////////////////////////////////////////////////////\n",
        "    // Batch Gradient Descent\n",
        "    /////////////////////////////////////////////////////////\n",
        "\n",
        "    /* Evaluate the accuracy */\n",
        "    float accuracy = 0;\n",
        "    accuracy = evaluate_accuracy(d_W, d_Xtest, d_Ytest, d_Ztest);\n",
        "    printf(\"initial accuracy: %f\\n\",accuracy);\n",
        "\n",
        "    float J = 0;\n",
        "\n",
        "    clock_t tstart_total, tend;\n",
        "    tstart_total = clock();\n",
        "\n",
        "    for (int epoch = 0; epoch < nb_epochs; epoch++) {\n",
        "      int batch_pointer = 0;\n",
        "      J = 0;\n",
        "\n",
        "      for (int batch = 0; batch < (N + BATCH_SIZE - 1) / BATCH_SIZE; batch++) {\n",
        "        // select data batch\n",
        "        fmatrix d_Xbatch = fmatrix_subcolumns(d_X, batch_pointer, batch_pointer + BATCH_SIZE);\n",
        "        fmatrix d_Ybatch = fmatrix_subcolumns(d_Y, batch_pointer, batch_pointer + BATCH_SIZE);\n",
        "\n",
        "        // compute Z = W^T X\n",
        "        fmatrix_tmult(d_Z, 1.0, d_W, d_Xbatch);\n",
        "\n",
        "        // compute softmax per column of Z and store in Z\n",
        "        fmatrix_stable_softmax(d_P, d_Z);\n",
        "\n",
        "        // compute logloss\n",
        "        float batch_loss = evaluate_logloss(d_P, d_Ybatch);\n",
        "        J += batch_loss * BATCH_SIZE;\n",
        "\n",
        "        // Q = P-Y\n",
        "        fmatrix_sub(d_Q, d_P, d_Ybatch);\n",
        "        //printf(\"Q:\\n\"); fmatrix_device_print(d_Q);\n",
        "\n",
        "        // compute gradient G = XQ^T\n",
        "        fmatrix_mult_t(d_G, 1.0, d_Xbatch, d_Q);\n",
        "\n",
        "        // update weights W = W - learning_rate*G\n",
        "        fmatrix_scalar_mult(d_G, learning_rate);\n",
        "        fmatrix_sub(d_W, d_W, d_G);\n",
        "\n",
        "        device_synchronize();\n",
        "      }\n",
        "\n",
        "      J /= N;\n",
        "\n",
        "      ////////////////////////////////\n",
        "      // Report logloss and accuracy\n",
        "      ////////////////////////////////\n",
        "      float accuracy = evaluate_accuracy(d_W, d_Xtest, d_Ytest, d_Ztest);\n",
        "      printf(\"Epoch: %d, LogLoss: %f, Accuracy: %f\\n\", epoch, J, accuracy);\n",
        "      fprintf(fp, \"%f,%f\\n\", J, accuracy);\n",
        "    }\n",
        "\n",
        "    tend = clock();\n",
        "    float duration = ((float)(tend-tstart_total))/CLOCKS_PER_SEC;\n",
        "    printf(\"Duration (s): %f\\n\",duration);\n",
        "    /* Evaluate the accuracy */\n",
        "    accuracy = evaluate_accuracy(d_W, d_Xtest, d_Ytest, d_Ztest);\n",
        "    printf(\"final accuracy: %f\\n\",accuracy);\n",
        "\n",
        "    printf(\"final weights: \\n\");\n",
        "    fmatrix_device_print(d_W);\n",
        "\n",
        "    /* Memory clean up */\n",
        "    /** No need to free h_X, h_Y, h_Xtest, h_Ytest since\n",
        "     *  they all point to Xall\n",
        "     */\n",
        "    fmatrix_free_on_host(&h_W);\n",
        "    fmatrix_free_on_host(&Xall);\n",
        "    fmatrix_free_on_host(&Yall);\n",
        "\n",
        "    fmatrix_free_on_device(&d_X);\n",
        "    fmatrix_free_on_device(&d_Y);\n",
        "    fmatrix_free_on_device(&d_Xtest);\n",
        "    fmatrix_free_on_device(&d_Ytest);\n",
        "    fmatrix_free_on_device(&d_W);\n",
        "    fmatrix_free_on_device(&d_Z);\n",
        "    fmatrix_free_on_device(&d_J);\n",
        "\n",
        "    // Close log file\n",
        "    fclose(fp);\n",
        "}"
      ]
    },
    {
      "cell_type": "markdown",
      "metadata": {
        "id": "HrATC8s9LsDw"
      },
      "source": [
        "# Compiling\n"
      ]
    },
    {
      "cell_type": "code",
      "execution_count": 47,
      "metadata": {
        "id": "Z52xd0NMRKXb"
      },
      "outputs": [],
      "source": [
        "!nvcc -arch=sm_75 -Wno-deprecated-gpu-targets -I cuda-samples/Common/ -L/usr/local/cuda/include -lcublas -lcusolver -o classifier.out linear_classification.cu read_csv.cu preprocess_data.cu evaluate_accuracy.cu fmatrix.cu classifier_math.cu cuda_stuff.cu"
      ]
    },
    {
      "cell_type": "markdown",
      "metadata": {
        "id": "b55D3-Iz2UIl"
      },
      "source": [
        "# Compiling batches version\n"
      ]
    },
    {
      "cell_type": "code",
      "execution_count": 48,
      "metadata": {
        "id": "ATGt9xTh2X04"
      },
      "outputs": [],
      "source": [
        "!nvcc -arch=sm_75 -Wno-deprecated-gpu-targets -I cuda-samples/Common/ -L/usr/local/cuda/include -lcublas -lcusolver -o classifier_batches.out linear_classification_batches.cu read_csv.cu preprocess_data.cu evaluate_accuracy.cu fmatrix.cu classifier_math.cu cuda_stuff.cu"
      ]
    },
    {
      "cell_type": "markdown",
      "metadata": {
        "id": "SZVqTfXcLvPr"
      },
      "source": [
        "# Experiments\n"
      ]
    },
    {
      "cell_type": "code",
      "execution_count": 49,
      "metadata": {
        "colab": {
          "base_uri": "https://localhost:8080/"
        },
        "id": "sV_vFkIT7fV4",
        "outputId": "86d43af8-71c7-43bd-dfbc-7069897c175f"
      },
      "outputs": [
        {
          "output_type": "stream",
          "name": "stdout",
          "text": [
            "initial accuracy: 0.481600\n",
            "Iter: 0, LogLoss: 0.770006, Accuracy:  0.610000\n",
            "Iter: 1, LogLoss: 0.662723, Accuracy:  0.696200\n",
            "Iter: 2, LogLoss: 0.614000, Accuracy:  0.727800\n",
            "Iter: 3, LogLoss: 0.585740, Accuracy:  0.737200\n",
            "Iter: 4, LogLoss: 0.567497, Accuracy:  0.743400\n",
            "Iter: 5, LogLoss: 0.554904, Accuracy:  0.746800\n",
            "Iter: 6, LogLoss: 0.545810, Accuracy:  0.746200\n",
            "Iter: 7, LogLoss: 0.539005, Accuracy:  0.747600\n",
            "Iter: 8, LogLoss: 0.533764, Accuracy:  0.749400\n",
            "Iter: 9, LogLoss: 0.529630, Accuracy:  0.750600\n",
            "Iter: 10, LogLoss: 0.526299, Accuracy:  0.752000\n",
            "Iter: 11, LogLoss: 0.523562, Accuracy:  0.752000\n",
            "Iter: 12, LogLoss: 0.521278, Accuracy:  0.752200\n",
            "Iter: 13, LogLoss: 0.519343, Accuracy:  0.752200\n",
            "Iter: 14, LogLoss: 0.517679, Accuracy:  0.752000\n",
            "Iter: 15, LogLoss: 0.516228, Accuracy:  0.752400\n",
            "Iter: 16, LogLoss: 0.514954, Accuracy:  0.752200\n",
            "Iter: 17, LogLoss: 0.513817, Accuracy:  0.751800\n",
            "Iter: 18, LogLoss: 0.512796, Accuracy:  0.751600\n",
            "Iter: 19, LogLoss: 0.511874, Accuracy:  0.751200\n",
            "Duration (s): 0.015275\n",
            "final accuracy: 0.751200\n",
            "final weights: \n",
            "[\n",
            "0.205141,\t-0.063689;\n",
            "-0.045602,\t0.179966;\n",
            "-0.363094,\t-0.182383;\n",
            "0.564815,\t0.161749;\n",
            "0.059586,\t0.032545;\n",
            "0.271548,\t0.077712;\n",
            "-0.408136,\t0.008081;\n",
            "0.548091,\t0.250975;\n",
            "1.621505,\t0.131035\n",
            "]\n",
            "CPU times: user 7.45 ms, sys: 1.08 ms, total: 8.53 ms\n",
            "Wall time: 307 ms\n"
          ]
        }
      ],
      "source": [
        "%%time\n",
        "!./classifier.out"
      ]
    },
    {
      "cell_type": "markdown",
      "metadata": {
        "id": "hxIyxh0ClrIz"
      },
      "source": [
        "Let's plot the logloss and accuracy.\n"
      ]
    },
    {
      "cell_type": "code",
      "execution_count": 50,
      "metadata": {
        "colab": {
          "base_uri": "https://localhost:8080/",
          "height": 472
        },
        "id": "kR2kCNEIlpqQ",
        "outputId": "a61e4af7-fd8f-49a2-cc44-98542fedbdde"
      },
      "outputs": [
        {
          "output_type": "display_data",
          "data": {
            "text/plain": [
              "<Figure size 640x480 with 2 Axes>"
            ],
            "image/png": "[encoded data removed]"
          },
          "metadata": {}
        }
      ],
      "source": [
        "import pandas as pd\n",
        "import matplotlib.pyplot as plt\n",
        "\n",
        "data = pd.read_csv(\"log.txt\", sep=\",\", header=None)\n",
        "\n",
        "fig, ax = plt.subplots()\n",
        "\n",
        "ax.plot(data[0], label=\"logloss\")\n",
        "ax2 = ax.twinx()\n",
        "ax2.plot([], [])\n",
        "ax2.plot(data[1], label=\"accuracy\")\n",
        "\n",
        "ax.set_xlabel(\"Epochs\")\n",
        "ax.legend(loc=\"upper left\")\n",
        "ax2.legend(loc=\"upper right\")\n",
        "\n",
        "plt.title(\"Initial setting\")\n",
        "plt.show()"
      ]
    },
    {
      "cell_type": "code",
      "execution_count": 51,
      "metadata": {
        "colab": {
          "base_uri": "https://localhost:8080/"
        },
        "id": "fKq8gGRs2cmx",
        "outputId": "9f188fa9-eb49-44cb-9f60-4629e6e0a3aa"
      },
      "outputs": [
        {
          "output_type": "stream",
          "name": "stdout",
          "text": [
            "initial accuracy: 0.481600\n",
            "Epoch: 0, LogLoss: 0.709050, Accuracy: 0.596600\n",
            "Epoch: 1, LogLoss: 0.635738, Accuracy: 0.663400\n",
            "Epoch: 2, LogLoss: 0.594907, Accuracy: 0.704800\n",
            "Epoch: 3, LogLoss: 0.569015, Accuracy: 0.718600\n",
            "Epoch: 4, LogLoss: 0.551019, Accuracy: 0.728400\n",
            "Epoch: 5, LogLoss: 0.537754, Accuracy: 0.736000\n",
            "Epoch: 6, LogLoss: 0.527576, Accuracy: 0.738600\n",
            "Epoch: 7, LogLoss: 0.519526, Accuracy: 0.739600\n",
            "Epoch: 8, LogLoss: 0.513002, Accuracy: 0.741400\n",
            "Epoch: 9, LogLoss: 0.507603, Accuracy: 0.743400\n",
            "Epoch: 10, LogLoss: 0.503054, Accuracy: 0.743600\n",
            "Epoch: 11, LogLoss: 0.499159, Accuracy: 0.744000\n",
            "Epoch: 12, LogLoss: 0.495776, Accuracy: 0.744600\n",
            "Epoch: 13, LogLoss: 0.492799, Accuracy: 0.744400\n",
            "Epoch: 14, LogLoss: 0.490150, Accuracy: 0.745800\n",
            "Epoch: 15, LogLoss: 0.487767, Accuracy: 0.745800\n",
            "Epoch: 16, LogLoss: 0.485604, Accuracy: 0.746000\n",
            "Epoch: 17, LogLoss: 0.483624, Accuracy: 0.746400\n",
            "Epoch: 18, LogLoss: 0.481798, Accuracy: 0.747600\n",
            "Epoch: 19, LogLoss: 0.480102, Accuracy: 0.747800\n",
            "Duration (s): 0.177494\n",
            "final accuracy: 0.747800\n",
            "final weights: \n",
            "[\n",
            "0.205141,\t-0.063689;\n",
            "-0.261360,\t0.179966;\n",
            "-0.505262,\t-0.182383;\n",
            "0.500183,\t0.161749;\n",
            "0.189581,\t0.032545;\n",
            "0.428906,\t0.077712;\n",
            "-0.367975,\t0.008081;\n",
            "0.620251,\t0.250975;\n",
            "1.644973,\t0.131035\n",
            "]\n",
            "CPU times: user 6.21 ms, sys: 1.04 ms, total: 7.25 ms\n",
            "Wall time: 507 ms\n"
          ]
        }
      ],
      "source": [
        "%%time\n",
        "!./classifier_batches.out"
      ]
    },
    {
      "cell_type": "code",
      "execution_count": 52,
      "metadata": {
        "colab": {
          "base_uri": "https://localhost:8080/",
          "height": 472
        },
        "id": "Gl7tEt2yXRjK",
        "outputId": "f71a175b-f34b-4b65-c6cb-78d3845b8092"
      },
      "outputs": [
        {
          "output_type": "display_data",
          "data": {
            "text/plain": [
              "<Figure size 640x480 with 2 Axes>"
            ],
            "image/png": "[encoded data removed]"
          },
          "metadata": {}
        }
      ],
      "source": [
        "import pandas as pd\n",
        "import matplotlib.pyplot as plt\n",
        "\n",
        "data = pd.read_csv(\"log_batches.txt\", sep=\",\", header=None)\n",
        "\n",
        "fig, ax = plt.subplots()\n",
        "\n",
        "ax.plot(data[0], label=\"logloss\")\n",
        "ax2 = ax.twinx()\n",
        "ax2.plot([], [])\n",
        "ax2.plot(data[1], label=\"accuracy\")\n",
        "\n",
        "ax.set_xlabel(\"Epochs\")\n",
        "ax.legend(loc=\"upper left\")\n",
        "ax2.legend(loc=\"upper right\")\n",
        "\n",
        "plt.title(\"Batches setting\")\n",
        "plt.show()"
      ]
    },
    {
      "cell_type": "markdown",
      "metadata": {
        "id": "oZtjl2FyfP6y"
      },
      "source": [
        "## Hyper-Parameters\n"
      ]
    },
    {
      "cell_type": "markdown",
      "metadata": {
        "id": "PZGjDLfYfXby"
      },
      "source": [
        "**Initial Setting:**\n",
        "\n",
        "- n_epochs = 20\n",
        "- learning_rate = 1e-4\n",
        "- best_accuracy ≈ 0.751\n",
        "- runtime ≈ 15.2 ms\n",
        "\n",
        "**Batches Setting:**\n",
        "\n",
        "- n_epochs = 20\n",
        "- batch_size = 128\n",
        "- learning_rate = 1e-4\n",
        "- best_accuracy ≈ 0.747\n",
        "- runtime ≈ 177 ms"
      ]
    },
    {
      "cell_type": "markdown",
      "metadata": {
        "id": "17aUKkNJqTDZ"
      },
      "source": [
        "# Debugging\n",
        "\n",
        "Compile with debugging info on the host (`-g`) and device (`-G`).\n"
      ]
    },
    {
      "cell_type": "code",
      "execution_count": 53,
      "metadata": {
        "id": "EcfLGo1UrMq9"
      },
      "outputs": [],
      "source": [
        "!nvcc -g -G -I cuda-samples/Common/ -L/usr/local/cuda/include -lcublas -lcusolver linear_classification.cu read_csv.cu preprocess_data.cu evaluate_accuracy.cu fmatrix.cu classifier_math.cu cuda_stuff.cu"
      ]
    },
    {
      "cell_type": "markdown",
      "metadata": {
        "id": "FkuaGO10rRm9"
      },
      "source": [
        "Run the debugger cuda-gdb, stopping at the first error that is detected. Shows first the call stack on the GPU, the values of local variables, then the call stack on the host (thread 1).\n"
      ]
    },
    {
      "cell_type": "code",
      "execution_count": 54,
      "metadata": {
        "colab": {
          "base_uri": "https://localhost:8080/"
        },
        "id": "vZ8nAtzGTRgH",
        "outputId": "17435a81-0993-46f9-a300-8ef145c8f670"
      },
      "outputs": [
        {
          "output_type": "stream",
          "name": "stdout",
          "text": [
            "set cuda api_failures stop\n",
            "catch throw\n",
            "r\n",
            "bt\n",
            "info locals\n",
            "thread 1\n",
            "bt\n",
            "Catchpoint 1 (throw)\n",
            "[Thread debugging using libthread_db enabled]\n",
            "Using host libthread_db library \"/lib/x86_64-linux-gnu/libthread_db.so.1\".\n",
            "[New Thread 0x7ffff5bff000 (LWP 2559)]\n",
            "[New Thread 0x7fffeffff000 (LWP 2560)]\n",
            "[Detaching after fork from child process 2561]\n",
            "[New Thread 0x7fffee7dd000 (LWP 2566)]\n",
            "Cuda API error detected: cudaLaunchKernel returned (0xde)\n",
            "#0  0x00007ffff5dad970 in cudbgReportDriverApiError () from /usr/lib64-nvidia/libcuda.so.1\n",
            "#1  0x00007ffff602b32b in ?? () from /usr/lib64-nvidia/libcuda.so.1\n",
            "#2  0x00007ffff4954ba7 in ?? () from /usr/lib64-nvidia/libcudadebugger.so.1\n",
            "#3  0x00007ffff4931b2e in ?? () from /usr/lib64-nvidia/libcudadebugger.so.1\n",
            "#4  0x00007ffff4942fda in ?? () from /usr/lib64-nvidia/libcudadebugger.so.1\n",
            "#5  0x00007ffff49280d7 in ?? () from /usr/lib64-nvidia/libcudadebugger.so.1\n",
            "#6  0x00007ffff4a9e526 in ?? () from /usr/lib64-nvidia/libcudadebugger.so.1\n",
            "#7  0x00007ffff6042066 in ?? () from /usr/lib64-nvidia/libcuda.so.1\n",
            "#8  0x00005555555ce898 in cudaLaunchKernel ()\n",
            "#9  0x000055555556542b in cudaLaunchKernel<char> (func=0x555555564f82 <compute_mean_std_kernel(fmatrix, float*, float*)> \"\\363\\017\\036\\372UH\\211\\345H\\203\\354 H\\211\\360I\\211\\370L\\211\\306L\\211\\317H\\211\\307H\\211u\\360H\\211}\\370H\\211U\\350H\\211M\\340H\\213U\\340H\\213M\\350H\\215E\\360H\\211\\316H\\211\\307\\350c\\376\\377\\377\\220\\311\\303\\363\\017\\036\\372UH\\211\\345H\\203\\354pH\\211}\\250H\\211u\\240H\\211U\\230dH\\213\\004%(\", gridDim=..., blockDim=..., args=0x7fffffffd330, sharedMem=0, stream=0x0) at /usr/local/cuda/bin/../targets/x86_64-linux/include/cuda_runtime.h:216\n",
            "#10 0x0000555555564f68 in __device_stub__Z23compute_mean_std_kernel7fmatrixPfS0_ (__par0=..., __par1=0x7fffc1200000, __par2=0x7fffc1200200) at /tmp/tmpxft_00000902_00000000-26_classifier_math.cudafe1.stub.c:1\n",
            "#11 0x0000555555564fc4 in compute_mean_std_kernel (__cuda_0=..., __cuda_1=0x7fffc1200000, __cuda_2=0x7fffc1200200) at /content/classifier_math.cu:242\n",
            "#12 0x0000555555563fec in fmatrix_compute_mean_std (X=..., mu=0x5555557430a0, sigma=0x555555740e90) at /content/classifier_math.cu:274\n",
            "#13 0x00005555555600ee in main (argc=1, argv=0x7fffffffd718) at /content/linear_classification.cu:98\n",
            "No symbol table info available.\n",
            "[Switching to thread 1 (Thread 0x7ffff7a44000 (LWP 2555))]\n",
            "#0  0x00007ffff5dad970 in cudbgReportDriverApiError () from /usr/lib64-nvidia/libcuda.so.1\n",
            "#0  0x00007ffff5dad970 in cudbgReportDriverApiError () from /usr/lib64-nvidia/libcuda.so.1\n",
            "#1  0x00007ffff602b32b in ?? () from /usr/lib64-nvidia/libcuda.so.1\n",
            "#2  0x00007ffff4954ba7 in ?? () from /usr/lib64-nvidia/libcudadebugger.so.1\n",
            "#3  0x00007ffff4931b2e in ?? () from /usr/lib64-nvidia/libcudadebugger.so.1\n",
            "#4  0x00007ffff4942fda in ?? () from /usr/lib64-nvidia/libcudadebugger.so.1\n",
            "#5  0x00007ffff49280d7 in ?? () from /usr/lib64-nvidia/libcudadebugger.so.1\n",
            "#6  0x00007ffff4a9e526 in ?? () from /usr/lib64-nvidia/libcudadebugger.so.1\n",
            "#7  0x00007ffff6042066 in ?? () from /usr/lib64-nvidia/libcuda.so.1\n",
            "#8  0x00005555555ce898 in cudaLaunchKernel ()\n",
            "#9  0x000055555556542b in cudaLaunchKernel<char> (func=0x555555564f82 <compute_mean_std_kernel(fmatrix, float*, float*)> \"\\363\\017\\036\\372UH\\211\\345H\\203\\354 H\\211\\360I\\211\\370L\\211\\306L\\211\\317H\\211\\307H\\211u\\360H\\211}\\370H\\211U\\350H\\211M\\340H\\213U\\340H\\213M\\350H\\215E\\360H\\211\\316H\\211\\307\\350c\\376\\377\\377\\220\\311\\303\\363\\017\\036\\372UH\\211\\345H\\203\\354pH\\211}\\250H\\211u\\240H\\211U\\230dH\\213\\004%(\", gridDim=..., blockDim=..., args=0x7fffffffd330, sharedMem=0, stream=0x0) at /usr/local/cuda/bin/../targets/x86_64-linux/include/cuda_runtime.h:216\n",
            "#10 0x0000555555564f68 in __device_stub__Z23compute_mean_std_kernel7fmatrixPfS0_ (__par0=..., __par1=0x7fffc1200000, __par2=0x7fffc1200200) at /tmp/tmpxft_00000902_00000000-26_classifier_math.cudafe1.stub.c:1\n",
            "#11 0x0000555555564fc4 in compute_mean_std_kernel (__cuda_0=..., __cuda_1=0x7fffc1200000, __cuda_2=0x7fffc1200200) at /content/classifier_math.cu:242\n",
            "#12 0x0000555555563fec in fmatrix_compute_mean_std (X=..., mu=0x5555557430a0, sigma=0x555555740e90) at /content/classifier_math.cu:274\n",
            "#13 0x00005555555600ee in main (argc=1, argv=0x7fffffffd718) at /content/linear_classification.cu:98\n"
          ]
        }
      ],
      "source": [
        "#set cuda memcheck on\\n\n",
        "! printf \"set cuda api_failures stop\\ncatch throw\\nr\\nbt\\ninfo locals\\nthread 1\\nbt\\n\" > tmp.txt\n",
        "! cat tmp.txt\n",
        "! cuda-gdb -batch -x tmp.txt ./a.out"
      ]
    },
    {
      "cell_type": "code",
      "execution_count": 55,
      "metadata": {
        "colab": {
          "base_uri": "https://localhost:8080/"
        },
        "id": "VGJ6uVNBVHUs",
        "outputId": "9fb37c1f-590f-43bd-b920-5ba8213e207c"
      },
      "outputs": [
        {
          "output_type": "stream",
          "name": "stdout",
          "text": [
            "/bin/bash: line 1: cuda-memcheck: command not found\n"
          ]
        }
      ],
      "source": [
        "!cuda-memcheck ./a.out"
      ]
    },
    {
      "cell_type": "markdown",
      "metadata": {
        "id": "6WEXHyvpQ-1O"
      },
      "source": [
        "# Test\n"
      ]
    },
    {
      "cell_type": "code",
      "execution_count": 56,
      "metadata": {
        "colab": {
          "base_uri": "https://localhost:8080/"
        },
        "id": "Bqs64V1tEysf",
        "outputId": "cf2140d6-b519-434a-b527-360d5bd8d6df"
      },
      "outputs": [
        {
          "output_type": "stream",
          "name": "stdout",
          "text": [
            "Overwriting test.cu\n"
          ]
        }
      ],
      "source": [
        "%%writefile test.cu\n",
        "#include \"fmatrix.cuh\"\n",
        "#include \"classifier_math.cu\"\n",
        "\n",
        "int main() {\n",
        "    // create a random matrix\n",
        "    fmatrix A = fmatrix_create_random_on_device(2,1);\n",
        "    fmatrix B = fmatrix_create_random_on_device(1,2);\n",
        "    fmatrix C = fmatrix_create_random_on_device(1,1);\n",
        "    printf(\"original matrix:\\n\");\n",
        "    fmatrix_device_print(B);\n",
        "    fmatrix_device_print(C);\n",
        "    // add the matrix to itself\n",
        "    fmatrix_tmult(A,1.0,B,C);\n",
        "    // print\n",
        "    printf(\"matrix result:\\n\");\n",
        "    fmatrix_device_print(A);\n",
        "    // free the memory\n",
        "    fmatrix_free_on_device(&A);\n",
        "    fmatrix_free_on_device(&B);\n",
        "    fmatrix_free_on_device(&C);\n",
        "}"
      ]
    },
    {
      "cell_type": "code",
      "execution_count": 57,
      "metadata": {
        "id": "KsKCSpp4PoKI"
      },
      "outputs": [],
      "source": [
        "!nvcc -arch=sm_75 -Wno-deprecated-gpu-targets -g -G -I cuda-samples/Common/ -L/usr/local/cuda/include test.cu fmatrix.cu cuda_stuff.cu"
      ]
    },
    {
      "cell_type": "code",
      "execution_count": 58,
      "metadata": {
        "colab": {
          "base_uri": "https://localhost:8080/"
        },
        "id": "vErDd-FXQHdO",
        "outputId": "2b3e346c-8c35-4142-8a56-a768b837d0ed"
      },
      "outputs": [
        {
          "output_type": "stream",
          "name": "stdout",
          "text": [
            "original matrix:\n",
            "[\n",
            "0.480439,\t-0.123098\n",
            "]\n",
            "[\n",
            "0.480439\n",
            "]\n",
            "matrix result:\n",
            "[\n",
            "0.230821;\n",
            "-0.059141\n",
            "]\n"
          ]
        }
      ],
      "source": [
        "!./a.out"
      ]
    }
  ],
  "metadata": {
    "accelerator": "GPU",
    "colab": {
      "collapsed_sections": [
        "Po-TEvrWMJ_a",
        "9pWS3hlAecOc",
        "8AwZh8WULi_F",
        "17aUKkNJqTDZ",
        "6WEXHyvpQ-1O"
      ],
      "gpuType": "T4",
      "provenance": []
    },
    "kernelspec": {
      "display_name": "Python 3",
      "name": "python3"
    }
  },
  "nbformat": 4,
  "nbformat_minor": 0
}